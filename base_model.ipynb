{
 "cells": [
  {
   "cell_type": "code",
   "execution_count": 1,
   "metadata": {
    "pycharm": {
     "name": "#%%\n"
    }
   },
   "outputs": [],
   "source": [
    "import numpy as np \n",
    "import pandas as pd \n",
    "import matplotlib.pyplot as pl\n",
    "import scipy.stats as stats\n",
    "from sklearn.metrics import mean_squared_error\n",
    "from sklearn.model_selection import train_test_split\n",
    "import seaborn as sns\n",
    "from sklearn.model_selection import GridSearchCV\n",
    "from sklearn.tree import DecisionTreeClassifier\n",
    "from sklearn.linear_model import LinearRegression\n",
    "from sklearn.pipeline import Pipeline\n",
    "from sklearn.ensemble import RandomForestClassifier\n",
    "from sklearn.linear_model import LogisticRegression\n",
    "import matplotlib.pyplot as plt\n",
    "from sklearn.neighbors import KNeighborsClassifier\n",
    "from sklearn import svm\n",
    "from sklearn.gaussian_process import GaussianProcessClassifier\n",
    "from sklearn.model_selection import train_test_split\n",
    "from datetime import datetime\n",
    "from sklearn.metrics import accuracy_score\n"
   ]
  },
  {
   "cell_type": "code",
   "execution_count": 2,
   "metadata": {
    "pycharm": {
     "name": "#%%\n"
    }
   },
   "outputs": [
    {
     "name": "stderr",
     "output_type": "stream",
     "text": [
      "C:\\Users\\emiel\\anaconda3\\lib\\site-packages\\IPython\\core\\interactiveshell.py:3165: DtypeWarning: Columns (0,11,19,21,24,25,27,32,33,36,37,38,39,40,46,47,48,49,51,53,55,56,60,73,75,78,80,82,83,86,87,91,95,99,102,103,104,107,108,109,110,111,112,113,116,118,119,120,121,122,123,124,129) have mixed types.Specify dtype option on import or set low_memory=False.\n",
      "  has_raised = await self.run_ast_nodes(code_ast.body, cell_name,\n"
     ]
    }
   ],
   "source": [
    "df = pd.read_csv('sap_storing_data_hu_project.csv')"
   ]
  },
  {
   "cell_type": "code",
   "execution_count": 3,
   "metadata": {
    "pycharm": {
     "name": "#%%\n"
    }
   },
   "outputs": [],
   "source": [
    "def column_outlier(strength, dataframe, columns):\n",
    "    temp_dataframe = dataframe.copy()\n",
    "    try:\n",
    "        if strength == 's':\n",
    "            strength=3\n",
    "        elif strength == 'a':\n",
    "            strength=1.5\n",
    "    except:\n",
    "        print(\"Invalid strength\")\n",
    "    for column in columns:\n",
    "        Q1 = temp_dataframe[column].quantile(0.25)\n",
    "        Q3 = temp_dataframe[column].quantile(0.75)\n",
    "        IQR = Q3 - Q1\n",
    "        temp_dataframe = temp_dataframe[~((temp_dataframe[column] < (Q1 - strength * IQR)) |(temp_dataframe[column] > (Q3 + strength* IQR)))]\n",
    "    return temp_dataframe"
   ]
  },
  {
   "cell_type": "code",
   "execution_count": 4,
   "metadata": {
    "pycharm": {
     "name": "#%%\n"
    }
   },
   "outputs": [],
   "source": [
    "def get_accuracy(r,zip_list):\n",
    "\n",
    "    return len([ _ for x in zip_list if x[0]+r >= x[1] >= x[0]-r])/len(zip_list)"
   ]
  },
  {
   "cell_type": "markdown",
   "metadata": {
    "pycharm": {
     "name": "#%% md\n"
    }
   },
   "source": [
    "<h2>Data Cleaning </h2>"
   ]
  },
  {
   "cell_type": "code",
   "execution_count": 5,
   "metadata": {
    "pycharm": {
     "name": "#%%\n"
    }
   },
   "outputs": [],
   "source": [
    "# ik zorg er hier voor dat de 'stm_progfh_in_duur' kolom naar floats gecast wordt\n",
    "df.stm_progfh_in_duur = df.stm_progfh_in_duur.apply(lambda x: float(str(x).replace('-','').replace('*','').strip()))\n",
    "\n",
    "# delete stm_fh_duur outliers\n",
    "#df = column_outlier('a', df.copy(), ['stm_fh_duur'])\n",
    "\n",
    "\n",
    "# voeg dummy kolommen voor seizoenen toe\n",
    "df.stm_sap_melddatum = pd.to_datetime(df.stm_sap_melddatum)\n",
    "\n",
    "df['date_offset'] = (df.stm_sap_melddatum.dt.month*100 + df.stm_sap_melddatum.dt.day - 320)%1300\n",
    "\n",
    "df['seizoen_melding'] = pd.cut(df['date_offset'], [0, 300, 602, 900, 1300], \n",
    "                      labels=['spring', 'summer', 'autumn', 'winter'])\n",
    "\n",
    "df.drop(['date_offset'], axis=1)\n",
    "df = df.join(pd.get_dummies(df.seizoen_melding))\n",
    "\n",
    "# join de oorzaakcodes\n",
    "o_df = pd.read_csv('Oorzaakcodes.csv', sep = ';')\n",
    "o_df = o_df.rename(columns={'Code': 'stm_oorz_code'})\n",
    "df = df.merge(o_df, on = 'stm_oorz_code', how = 'outer')"
   ]
  },
  {
   "cell_type": "code",
   "execution_count": 6,
   "metadata": {
    "pycharm": {
     "name": "#%%\n"
    }
   },
   "outputs": [],
   "source": [
    "pd.set_option('display.max_rows', None)"
   ]
  },
  {
   "cell_type": "code",
   "execution_count": 7,
   "metadata": {
    "pycharm": {
     "name": "#%%\n"
    }
   },
   "outputs": [],
   "source": [
    "pd.set_option('display.max_columns', None)"
   ]
  },
  {
   "cell_type": "code",
   "execution_count": 8,
   "metadata": {
    "pycharm": {
     "name": "#%%\n"
    }
   },
   "outputs": [],
   "source": [
    "df.drop(df[df.stm_fh_duur == 0].index, inplace=True)"
   ]
  },
  {
   "cell_type": "code",
   "execution_count": 9,
   "metadata": {
    "pycharm": {
     "name": "#%%\n"
    }
   },
   "outputs": [],
   "source": [
    "new_df_copy = column_outlier('a', df.copy(), ['stm_fh_duur'])"
   ]
  },
  {
   "cell_type": "code",
   "execution_count": 10,
   "metadata": {
    "pycharm": {
     "name": "#%%\n"
    }
   },
   "outputs": [
    {
     "data": {
      "text/plain": [
       "<AxesSubplot:xlabel='stm_fh_duur', ylabel='Density'>"
      ]
     },
     "execution_count": 10,
     "metadata": {},
     "output_type": "execute_result"
    },
    {
     "data": {
      "image/png": "[encoded data removed]",
      "text/plain": [
       "<Figure size 432x288 with 1 Axes>"
      ]
     },
     "metadata": {
      "needs_background": "light"
     },
     "output_type": "display_data"
    }
   ],
   "source": [
    "sns.kdeplot(new_df_copy.stm_fh_duur)"
   ]
  },
  {
   "cell_type": "markdown",
   "metadata": {
    "pycharm": {
     "name": "#%% md\n"
    }
   },
   "source": []
  },
  {
   "cell_type": "code",
   "execution_count": 11,
   "metadata": {
    "pycharm": {
     "name": "#%%\n"
    }
   },
   "outputs": [],
   "source": [
    "# hoe groot de bins worden die de 'stm_fh_duur' kolom verdelen\n",
    "error_margin = 10"
   ]
  },
  {
   "cell_type": "markdown",
   "metadata": {
    "pycharm": {
     "name": "#%% md\n"
    }
   },
   "source": [
    "<h2> MODEL COMPARISON </h2>"
   ]
  },
  {
   "cell_type": "code",
   "execution_count": 12,
   "metadata": {
    "pycharm": {
     "name": "#%%\n"
    }
   },
   "outputs": [],
   "source": [
    "df_co = column_outlier('a', df.copy(), ['stm_fh_duur'])\n",
    "#df_co = df_co[df_co.Oorzaak == 'IJsafzetting/ijzel']"
   ]
  },
  {
   "cell_type": "code",
   "execution_count": 13,
   "metadata": {
    "pycharm": {
     "name": "#%%\n"
    }
   },
   "outputs": [],
   "source": [
    "bins = [x for x in range(0,900,error_margin)]\n",
    "labels = [x for x in range(1,len(bins))]\n",
    "\n",
    "df_co['duration_bin'] = pd.cut(df_co['stm_fh_duur'], bins = bins, labels=labels)"
   ]
  },
  {
   "cell_type": "code",
   "execution_count": 14,
   "metadata": {
    "pycharm": {
     "name": "#%%\n"
    }
   },
   "outputs": [],
   "source": [
    "df_co = df_co[['Oorzaak','stm_equipm_nr_mld', 'stm_prioriteit', 'stm_km_tot_mld', 'stm_km_van_mld','stm_fh_duur', 'stm_progfh_in_duur','duration_bin', 'stm_rapportage_jaar','spring', 'summer','autumn','winter']].sample(frac = 1).dropna()\n"
   ]
  },
  {
   "cell_type": "code",
   "execution_count": 15,
   "metadata": {
    "pycharm": {
     "name": "#%%\n"
    }
   },
   "outputs": [
    {
     "data": {
      "text/plain": [
       "0.47571854321361823"
      ]
     },
     "execution_count": 15,
     "metadata": {},
     "output_type": "execute_result"
    }
   ],
   "source": [
    "# svm, random forests en gaussion process classifier duren veels te lang op deze dataset\n",
    "X = df_co[['stm_equipm_nr_mld', 'stm_prioriteit', 'stm_km_tot_mld', 'stm_km_van_mld', 'stm_rapportage_jaar','spring', 'summer','autumn','winter']]\n",
    "y = df_co.duration_bin\n",
    "X = X.join(pd.get_dummies(df.stm_oorz_code)).dropna()\n",
    "X = X.join(pd.get_dummies(df.stm_equipm_soort_mld)).dropna()\n",
    "\n",
    "\n",
    "X_train_dt, X_test_dt, y_train_dt, y_test_dt = train_test_split(X, y, test_size=0.2)\n",
    "\n",
    "clf = DecisionTreeClassifier(random_state=0).fit(X_train_dt, y_train_dt)\n",
    "\n",
    "y_pred_dt = clf.predict(X_test_dt)\n",
    "\n",
    "accuracy_score(y_test_dt,y_pred_dt)"
   ]
  },
  {
   "cell_type": "code",
   "execution_count": 16,
   "metadata": {},
   "outputs": [
    {
     "data": {
      "text/plain": [
       "0.45192705965550334"
      ]
     },
     "execution_count": 16,
     "metadata": {},
     "output_type": "execute_result"
    }
   ],
   "source": [
    "X = df_co[['stm_equipm_nr_mld', 'stm_prioriteit', 'stm_km_tot_mld', 'stm_rapportage_jaar','spring', 'summer','autumn','winter']]\n",
    "y = df_co.duration_bin\n",
    "\n",
    "X_train_kn, X_test_kn, y_train_kn, y_test_kn = train_test_split(X, y, test_size=0.2)\n",
    "\n",
    "clf2 = KNeighborsClassifier(n_neighbors = 1).fit(X_train_kn, y_train_kn)\n",
    "\n",
    "y_pred_kn = clf2.predict(X_test_kn)\n",
    "accuracy_score(y_test_kn,y_pred_kn)"
   ]
  },
  {
   "cell_type": "code",
   "execution_count": 17,
   "metadata": {},
   "outputs": [
    {
     "data": {
      "text/plain": [
       "0.5225046284376111"
      ]
     },
     "execution_count": 17,
     "metadata": {},
     "output_type": "execute_result"
    }
   ],
   "source": [
    "my_df = df.select_dtypes(include=np.number)\n",
    "# drop columns with > 100.000 NaNs\n",
    "my_df = my_df.drop(columns = ['stm_equipm_nr_mld', 'stm_mon_nr__statuscode', 'stm_geo_gst_uit_functiepl', 'stm_equipm_nr_gst', 'stm_contractgeb_mld', 'stm_progfh_gw_lwd_datum', 'stm_status_sapnaarmon', 'stm_schadenr'])\n",
    "my_df = my_df.join(df_co['duration_bin'])\n",
    "\n",
    "\n",
    "my_df = column_outlier('a', my_df.copy(), ['stm_arbeid', 'stm_reactie_duur'])\n",
    "\n",
    "my_df = my_df.dropna()\n",
    "\n",
    "\n",
    "X = my_df.drop(columns = ['duration_bin', 'stm_fh_duur', 'stm_mon_nr', 'stm_geo_mld_uit_functiepl', '#stm_sap_meldnr', 'stm_oorz_code', 'stm_fh_status', 'stm_tao_telling_mutatie', 'stm_progfh_in_duur', 'stm_progfh_gw_teller', 'stm_rapportage_maand', 'stm_rapportage_jaar', 'stm_x_actueel_ind', 'stm_x_run_id', 'stm_x_bk', 'stm_x_vervallen_ind', 'date_offset', 'stm_arbeid'])\n",
    "y = my_df.duration_bin\n",
    "\n",
    "\n",
    "X_train_dt2, X_test_dt2, y_train_dt2, y_test_dt2 = train_test_split(X, y, test_size=0.2)\n",
    "clf3 = DecisionTreeClassifier(random_state = 0).fit(X_train_dt2, y_train_dt2)\n",
    "y_pred_dt2 = clf3.predict(X_test_dt2)\n",
    "accuracy_score(y_test_dt2, y_pred_dt2)"
   ]
  },
  {
   "cell_type": "code",
   "execution_count": 18,
   "metadata": {},
   "outputs": [],
   "source": [
    "cause_df = df_co[['Oorzaak', 'stm_fh_duur']].groupby('Oorzaak', as_index = False ).mean()"
   ]
  },
  {
   "cell_type": "code",
   "execution_count": 19,
   "metadata": {},
   "outputs": [],
   "source": [
    "bins = [x for x in range(0,900,error_margin)]\n",
    "labels = [x for x in range(1,len(bins))]\n",
    "\n",
    "cause_df['duration_bin'] = pd.cut(cause_df['stm_fh_duur'], bins = bins, labels=labels)"
   ]
  },
  {
   "cell_type": "code",
   "execution_count": 20,
   "metadata": {},
   "outputs": [],
   "source": [
    "def cause_predict(causes, cause_df):\n",
    "    \"\"\"model that returns the expected duration bin of a specific cause\"\"\"\n",
    "    \n",
    "    valid_causes = list(cause_df.Oorzaak)\n",
    "    \n",
    "    cause_dic = {v : float(cause_df[cause_df.Oorzaak == v].duration_bin) for v in valid_causes }\n",
    "    \n",
    "    return [cause_dic[c] for c in causes]"
   ]
  },
  {
   "cell_type": "code",
   "execution_count": 21,
   "metadata": {},
   "outputs": [],
   "source": [
    "bins = [x for x in range(0,900,error_margin)]\n",
    "labels = [x for x in range(1,len(bins))]\n",
    "prog_df = df_co.copy()[['stm_progfh_in_duur','duration_bin']]\n",
    "prog_df = column_outlier('a', prog_df.copy(), ['stm_progfh_in_duur'])\n",
    "prog_df['prog_duration_bin'] = pd.cut(prog_df['stm_progfh_in_duur'], bins = bins, labels=labels)\n",
    "prog_df = prog_df.dropna()\n",
    "prog_df = prog_df[['duration_bin', 'prog_duration_bin']]"
   ]
  },
  {
   "cell_type": "code",
   "execution_count": 22,
   "metadata": {
    "pycharm": {
     "name": "#%%\n"
    }
   },
   "outputs": [
    {
     "data": {
      "image/png": "[encoded data removed]",
      "text/plain": [
       "<Figure size 432x288 with 1 Axes>"
      ]
     },
     "metadata": {
      "needs_background": "light"
     },
     "output_type": "display_data"
    }
   ],
   "source": [
    "x_ax = [error_margin +(20*x) for x in range(0,30)]\n",
    "\n",
    "y1_ax = [get_accuracy(x, list(zip(list(y_test_dt), y_pred_dt))) for x in range(0,30)]\n",
    "y2_ax = [get_accuracy(x, list(zip(list(y_test_kn), y_pred_kn))) for x in range(0,30)]\n",
    "\n",
    "\n",
    "X = df_co['Oorzaak']\n",
    "y = df_co['duration_bin']\n",
    "\n",
    "X_train, X_test, y_train, y_test = train_test_split(X, y, test_size=0.2)\n",
    "\n",
    "y3_ax = [get_accuracy(x, list(zip(list(y_test), cause_predict(list(X_train), cause_df)))) for x in range(0,30)]\n",
    "\n",
    "\n",
    "y4_ax = [get_accuracy(x, list(zip(list(prog_df.duration_bin), list(prog_df.prog_duration_bin)))) for x in range(0,30)]\n",
    "\n",
    "y5_ax = [get_accuracy(x, list(zip(list(y_test_dt2), y_pred_dt2))) for x in range(0,30)]\n",
    "\n",
    "\n",
    "plt.plot(x_ax,y1_ax, label = 'Decision Tree')\n",
    "plt.plot(x_ax,y2_ax, label = 'kNN')\n",
    "plt.plot(x_ax,y3_ax, label = 'Mean duration of cause')\n",
    "plt.plot(x_ax,y4_ax, label = 'ProRail Prognose')\n",
    "plt.plot(x_ax,y5_ax, label = 'Decision Tree 2')\n",
    "\n",
    "\n",
    "\n",
    "plt.xlabel('bin size in minutes')\n",
    "plt.ylabel('accuracy score')\n",
    "\n",
    "plt.legend()\n",
    "plt.show()"
   ]
  },
  {
   "cell_type": "code",
   "execution_count": 23,
   "metadata": {
    "pycharm": {
     "name": "#%%\n"
    }
   },
   "outputs": [
    {
     "data": {
      "text/plain": [
       "0.47571854321361823"
      ]
     },
     "execution_count": 23,
     "metadata": {},
     "output_type": "execute_result"
    }
   ],
   "source": [
    "# chance to predict the right bin, decision tree\n",
    "y1_ax[0]"
   ]
  },
  {
   "cell_type": "code",
   "execution_count": 24,
   "metadata": {
    "pycharm": {
     "name": "#%%\n"
    }
   },
   "outputs": [
    {
     "data": {
      "text/plain": [
       "0.45192705965550334"
      ]
     },
     "execution_count": 24,
     "metadata": {},
     "output_type": "execute_result"
    }
   ],
   "source": [
    "# chance to predict the right bin, KNN\n",
    "y2_ax[0]"
   ]
  },
  {
   "cell_type": "code",
   "execution_count": 25,
   "metadata": {},
   "outputs": [
    {
     "data": {
      "text/plain": [
       "0.02136687376875284"
      ]
     },
     "execution_count": 25,
     "metadata": {},
     "output_type": "execute_result"
    }
   ],
   "source": [
    "# chance to predict the right bin, cause predict\n",
    "y3_ax[0]"
   ]
  },
  {
   "cell_type": "code",
   "execution_count": 26,
   "metadata": {},
   "outputs": [
    {
     "data": {
      "text/plain": [
       "0.12449492808906219"
      ]
     },
     "execution_count": 26,
     "metadata": {},
     "output_type": "execute_result"
    }
   ],
   "source": [
    "# chance to predict the right bin, ProRail prognose\n",
    "y4_ax[0]"
   ]
  },
  {
   "cell_type": "code",
   "execution_count": 27,
   "metadata": {},
   "outputs": [
    {
     "data": {
      "text/plain": [
       "0.5225046284376111"
      ]
     },
     "execution_count": 27,
     "metadata": {},
     "output_type": "execute_result"
    }
   ],
   "source": [
    "# chance to predict the right bin, decision tree 2\n",
    "y5_ax[0]"
   ]
  },
  {
   "cell_type": "code",
   "execution_count": 28,
   "metadata": {
    "pycharm": {
     "name": "#%%\n"
    }
   },
   "outputs": [
    {
     "data": {
      "image/png": "[encoded data removed]",
      "text/plain": [
       "<Figure size 432x288 with 1 Axes>"
      ]
     },
     "metadata": {
      "needs_background": "light"
     },
     "output_type": "display_data"
    }
   ],
   "source": [
    "labels = ['Decision Tree', 'kNN', 'Cause Predict', 'ProRail Prognose', 'Decision Tree 2']\n",
    "\n",
    "min_10 = [eval(f\"y{i}_ax[0]\") for i in range(1,len(labels)+1)]\n",
    "min_30 = [eval(f\"y{i}_ax[1]\") - eval(f\"y{i}_ax[0]\") for i in range(1,len(labels)+1)]\n",
    "min_50 = [eval(f\"y{i}_ax[2]\") - eval(f\"y{i}_ax[1]\") for i in range(1,len(labels)+1)]\n",
    "\n",
    "width = 0.65       \n",
    "\n",
    "fig, ax = plt.subplots()\n",
    "\n",
    "ax.bar(labels, min_10, width, label='max 10 minuten error', color = '#66ff99')\n",
    "ax.bar(labels, min_30, width ,bottom=min_10,label='max 30 minuten error', color = '#ffd966')\n",
    "ax.bar(labels, min_50, width ,bottom=(np.array(min_30) + np.array(min_10)),label='max 50 minuten error', color = '#ff6666')\n",
    "\n",
    "\n",
    "ax.set_ylabel('Accuracy score')\n",
    "ax.set_title('Accuracy score om de correcte functiehersteltijd te voorspellen')\n",
    "ax.legend()\n",
    "\n",
    "plt.xticks(rotation=30)\n",
    "\n",
    "\n",
    "plt.show()"
   ]
  },
  {
   "cell_type": "code",
   "execution_count": 33,
   "metadata": {},
   "outputs": [
    {
     "data": {
      "text/plain": [
       "['stm_km_van_mld',\n",
       " 'stm_km_tot_mld',\n",
       " 'stm_prioriteit',\n",
       " 'stm_km_van_gst',\n",
       " 'stm_km_tot_gst',\n",
       " 'stm_contractgeb_gst',\n",
       " 'stm_reactie_duur',\n",
       " 'spring',\n",
       " 'summer',\n",
       " 'autumn',\n",
       " 'winter']"
      ]
     },
     "execution_count": 33,
     "metadata": {},
     "output_type": "execute_result"
    }
   ],
   "source": [
    "list(X_train_dt2.columns)"
   ]
  },
  {
   "cell_type": "code",
   "execution_count": 32,
   "metadata": {},
   "outputs": [
    {
     "data": {
      "text/plain": [
       "['stm_equipm_nr_mld',\n",
       " 'stm_prioriteit',\n",
       " 'stm_km_tot_mld',\n",
       " 'stm_km_van_mld',\n",
       " 'stm_rapportage_jaar',\n",
       " 'spring',\n",
       " 'summer',\n",
       " 'autumn',\n",
       " 'winter',\n",
       " 33.0,\n",
       " 48.0,\n",
       " 51.0,\n",
       " 130.0,\n",
       " 131.0,\n",
       " 132.0,\n",
       " 133.0,\n",
       " 134.0,\n",
       " 135.0,\n",
       " 136.0,\n",
       " 139.0,\n",
       " 140.0,\n",
       " 141.0,\n",
       " 142.0,\n",
       " 143.0,\n",
       " 144.0,\n",
       " 145.0,\n",
       " 146.0,\n",
       " 147.0,\n",
       " 148.0,\n",
       " 149.0,\n",
       " 150.0,\n",
       " 151.0,\n",
       " 152.0,\n",
       " 153.0,\n",
       " 154.0,\n",
       " 180.0,\n",
       " 181.0,\n",
       " 182.0,\n",
       " 183.0,\n",
       " 184.0,\n",
       " 185.0,\n",
       " 186.0,\n",
       " 187.0,\n",
       " 188.0,\n",
       " 189.0,\n",
       " 200.0,\n",
       " 201.0,\n",
       " 202.0,\n",
       " 203.0,\n",
       " 204.0,\n",
       " 205.0,\n",
       " 206.0,\n",
       " 207.0,\n",
       " 208.0,\n",
       " 209.0,\n",
       " 210.0,\n",
       " 211.0,\n",
       " 212.0,\n",
       " 213.0,\n",
       " 214.0,\n",
       " 215.0,\n",
       " 218.0,\n",
       " 219.0,\n",
       " 220.0,\n",
       " 221.0,\n",
       " 222.0,\n",
       " 223.0,\n",
       " 224.0,\n",
       " 225.0,\n",
       " 226.0,\n",
       " 227.0,\n",
       " 228.0,\n",
       " 229.0,\n",
       " 230.0,\n",
       " 231.0,\n",
       " 233.0,\n",
       " 234.0,\n",
       " 235.0,\n",
       " 239.0,\n",
       " 240.0,\n",
       " 241.0,\n",
       " 242.0,\n",
       " 250.0,\n",
       " 294.0,\n",
       " 298.0,\n",
       " 299.0,\n",
       " 999.0,\n",
       " '25AARDELEC',\n",
       " '25AARDVERB',\n",
       " '25AFNAMEPT',\n",
       " '25AFSPANN',\n",
       " '25AUTOTRAF',\n",
       " '25BESCHAAR',\n",
       " '25BEVEILHS',\n",
       " '25BEWARM',\n",
       " '25BOVNLEID',\n",
       " '25BVLSCHAK',\n",
       " '25CNTBDRVR',\n",
       " '25C_BANK',\n",
       " '25DRGCIE',\n",
       " '25DRGCIEBV',\n",
       " '25DRGKABEL',\n",
       " '25ELVERB',\n",
       " '25EQUIPOT',\n",
       " '25FASESCH',\n",
       " '25FILTER',\n",
       " '25FUNDERNG',\n",
       " '25GAASAFS',\n",
       " '25HANGDR',\n",
       " '25HS_INSTA',\n",
       " '25ISOLATOR',\n",
       " '25KABEL_EV',\n",
       " '25LBDV',\n",
       " '25LEIDOND',\n",
       " '25LSTSCHAK',\n",
       " '25LSTSCHEI',\n",
       " '25LSVOED',\n",
       " '25MEETINSP',\n",
       " '25MEETTRAF',\n",
       " '25MVI',\n",
       " '25NEGAFEED',\n",
       " '25NOODSTRM',\n",
       " '25OVERSPAF',\n",
       " '25PRIMINST',\n",
       " '25RAILSPL',\n",
       " '25RETLAAR',\n",
       " '25RIJDRAAD',\n",
       " '25SCHAARDC',\n",
       " '25SECINSTA',\n",
       " '25SPANSLIN',\n",
       " '25STATTRAF',\n",
       " '25STROOMRL',\n",
       " '25TRACTRAF',\n",
       " '25VASTPUNT',\n",
       " '25VERMSCHA',\n",
       " '25ZIJWBEV',\n",
       " '25ZINKERK',\n",
       " '3BSAFNPUNT',\n",
       " '3KVAFNPUNT',\n",
       " '3KVKABEL',\n",
       " '3KVKABELSY',\n",
       " '3KVLASTSCH',\n",
       " '3KVLOCVOED',\n",
       " '3KVOMVCENT',\n",
       " '3KVTRAFOGR',\n",
       " '3KVVERDNET',\n",
       " '3KVVOEDPNT',\n",
       " 'AARDELECT',\n",
       " 'AARDELECTR',\n",
       " 'AARDFTDET',\n",
       " 'AARDSCHAK',\n",
       " 'ACUUNIT',\n",
       " 'AFNAMEPTHS',\n",
       " 'AFNAMEPTLS',\n",
       " 'AFSCHERM',\n",
       " 'AFSPANNING',\n",
       " 'AFSTBEDIEN',\n",
       " 'AFST_STUUR',\n",
       " 'ANTI_ICING',\n",
       " 'AO1500VK',\n",
       " 'AO1500VKAB',\n",
       " 'AQUADUCT',\n",
       " 'ARMATUUR',\n",
       " 'ASSTELPNT',\n",
       " 'ATBNGBAKEN',\n",
       " 'ATBNGENC',\n",
       " 'ATBNGLUS',\n",
       " 'ATBVV',\n",
       " 'ATBVVUNIT',\n",
       " 'AUTOMDEUR',\n",
       " 'BAANLICHAA',\n",
       " 'BAANVRZIEN',\n",
       " 'BALLAST',\n",
       " 'BATTERIJ',\n",
       " 'BBINSTALL',\n",
       " 'BEHUIZBEV',\n",
       " 'BESCH_AARD',\n",
       " 'BEVTRACTGR',\n",
       " 'BEVVK10-25',\n",
       " 'BEVVK10_25',\n",
       " 'BEVVOEDSEC',\n",
       " 'BEV_EV',\n",
       " 'BEV_KABEL',\n",
       " 'BEWEEGBARM',\n",
       " 'BEWWERK',\n",
       " 'BIJZCONSTR',\n",
       " 'BIJZNSTSPR',\n",
       " 'BLUSAFNHYD',\n",
       " 'BLUSVULHYD',\n",
       " 'BLUSWVOORZ',\n",
       " 'BOVENLEID',\n",
       " 'BRUGBED',\n",
       " 'BRUGBEVAPP',\n",
       " 'BRUGOVERG',\n",
       " 'BRWSLKLUIS',\n",
       " 'BVLAFSCHER',\n",
       " 'BVLSCHAK',\n",
       " 'CABHP',\n",
       " 'CABOP',\n",
       " 'CAMERA',\n",
       " 'CCTV_CAM',\n",
       " 'CCTV_STOR',\n",
       " 'CCTV_UITK',\n",
       " 'CISJRELAIS',\n",
       " 'CNTR_BDRVR',\n",
       " 'COMMTRANSF',\n",
       " 'COMPENSINR',\n",
       " 'COMPLAS',\n",
       " 'COMPLEX',\n",
       " 'C_BANK',\n",
       " 'DCBUS',\n",
       " 'DEPOTVOED',\n",
       " 'DETASSAZA',\n",
       " 'DETASSBATT',\n",
       " 'DETASSEAK',\n",
       " 'DETASSFWS',\n",
       " 'DETASSTLPT',\n",
       " 'DETASSUNIT',\n",
       " 'DETASSVOED',\n",
       " 'DETEBIEVAL',\n",
       " 'DETECTREIN',\n",
       " 'DETFTGSSEC',\n",
       " 'DETGRSSSL',\n",
       " 'DETJAD2COM',\n",
       " 'DETJADE1SL',\n",
       " 'DETJADE2SL',\n",
       " 'DETJADPOW',\n",
       " 'DETLUS',\n",
       " 'DETOTCSSL',\n",
       " 'DETPEDAAL',\n",
       " 'DETPSSSL',\n",
       " 'DIJKCOUPUR',\n",
       " 'DILATINR',\n",
       " 'DIVDOORSN',\n",
       " 'DRAAGKABEL',\n",
       " 'DRAINAGE',\n",
       " 'DRAINAGEZW',\n",
       " 'DRGCIE',\n",
       " 'DRGCIEBVL',\n",
       " 'DUIKER',\n",
       " 'EBSBATT',\n",
       " 'EBSEXINTEQ',\n",
       " 'EBSINTFMOD',\n",
       " 'EBSRECHNER',\n",
       " 'EBSSUPPCOM',\n",
       " 'EBSSUPPEQ',\n",
       " 'EBSWRECHNR',\n",
       " 'EBSWSUPCOM',\n",
       " 'EBSWSUPEQ',\n",
       " 'ECODUCT',\n",
       " 'ELECGREN',\n",
       " 'ELECTVERB',\n",
       " 'EMPLVOORZ',\n",
       " 'ESLAS',\n",
       " 'ETCSACCSER',\n",
       " 'ETCSALIS',\n",
       " 'ETCSBALISE',\n",
       " 'ETCSLEU',\n",
       " 'ETCSRBC',\n",
       " 'ETCSSERVER',\n",
       " 'FAUNAVRZ',\n",
       " 'FECAAFVOER',\n",
       " 'FIDES',\n",
       " 'FIETSENVZ',\n",
       " 'FLYOVER',\n",
       " 'FRAME',\n",
       " 'FREQOMVORM',\n",
       " 'FUNDERING',\n",
       " 'GAASAFSCH',\n",
       " 'GASBEWKAST',\n",
       " 'GEBOUW',\n",
       " 'GEBOUWBEV',\n",
       " 'GEB_GBINST',\n",
       " 'GELIJKR',\n",
       " 'GELIJKSPIN',\n",
       " 'GELUIDSSCH',\n",
       " 'GENATMNET',\n",
       " 'GESPREKREG',\n",
       " 'GLASVEZEL',\n",
       " 'GOEDVOORZ',\n",
       " 'GROEPSKAST',\n",
       " 'GSMR',\n",
       " 'GVI',\n",
       " 'GVIGESTELA',\n",
       " 'GVI_ONDERD',\n",
       " 'HAAG',\n",
       " 'HANGDRAAD',\n",
       " 'HEKWERK',\n",
       " 'HELLINGBAA',\n",
       " 'HEUVELBEST',\n",
       " 'HEUVELSYS',\n",
       " 'HFREQINS',\n",
       " 'HOOGSPINST',\n",
       " 'HOTBOXDET',\n",
       " 'HVI',\n",
       " 'HVIAARDING',\n",
       " 'HYDRAULIEK',\n",
       " 'ICTINFRA',\n",
       " 'ICTSOFTW',\n",
       " 'INFRASTR',\n",
       " 'INSPECTWGN',\n",
       " 'INTERCOM',\n",
       " 'INTERLOCK',\n",
       " 'INTLOCKUNT',\n",
       " 'INUITVOORZ',\n",
       " 'ISOLATOR',\n",
       " 'KABEL10_25',\n",
       " 'KABEL1500V',\n",
       " 'KABELBED',\n",
       " 'KABELKAST',\n",
       " 'KABELTRGP',\n",
       " 'KABEL_EV',\n",
       " 'KABLEIDKOK',\n",
       " 'KAP',\n",
       " 'KBL1500VMI',\n",
       " 'KIJFDIS',\n",
       " 'KOPERKABEL',\n",
       " 'KROKODIL',\n",
       " 'KRUISING',\n",
       " 'KRUISSTUK',\n",
       " 'LASTSCHAK',\n",
       " 'LASTSCHEID',\n",
       " 'LBDV',\n",
       " 'LEIDINGEN',\n",
       " 'LEIDINGOND',\n",
       " 'LIFT',\n",
       " 'LIFTEN',\n",
       " 'LOC_VOED',\n",
       " 'LSVERDINR',\n",
       " 'LUIDSPR',\n",
       " 'LVAARDELEC',\n",
       " 'LVDSVERDIN',\n",
       " 'LVHSKABEL',\n",
       " 'LVHSTRAFO',\n",
       " 'LVHVI',\n",
       " 'LVI',\n",
       " 'LVNOODSTAG',\n",
       " 'LVNOODSTGR',\n",
       " 'MARIFOON',\n",
       " 'MECHOVERBR',\n",
       " 'MINUSKAST',\n",
       " 'MOBCOMSYST',\n",
       " 'MODULE',\n",
       " 'MONITMATRL',\n",
       " 'MONITOR',\n",
       " 'NBSTATION',\n",
       " 'NOODAFSL',\n",
       " 'NSA',\n",
       " 'NSPSPBORD',\n",
       " 'NTSPRDRGKW',\n",
       " 'NUTSELEKTR',\n",
       " 'NUTSGAS',\n",
       " 'NUTSWATER',\n",
       " 'OMROEPHP',\n",
       " 'OMROEPOP',\n",
       " 'ONDERDGANG',\n",
       " 'ONDERSTAT',\n",
       " 'ONTSPBED',\n",
       " 'ONTSPINR',\n",
       " 'OPSTAPVZ',\n",
       " 'OVERGCONST',\n",
       " 'OVERWBEVL',\n",
       " 'OVERWEG',\n",
       " 'OVRSPBBVL',\n",
       " 'OVWBATT',\n",
       " 'OVWBESTUR',\n",
       " 'OVWBEV',\n",
       " 'OVWGELYKR',\n",
       " 'OVWGLICHT',\n",
       " 'OVWPAAL',\n",
       " 'OVWSTELLER',\n",
       " 'PERRNBESCH',\n",
       " 'PERRON',\n",
       " 'PERRONGEB',\n",
       " 'PERRONKAP',\n",
       " 'PERRONVRZ',\n",
       " 'PERSLUCHT',\n",
       " 'PLAATSBEP',\n",
       " 'PLCSUPPEQ',\n",
       " 'PLTSBEDAPP',\n",
       " 'POORT',\n",
       " 'PORTOFOON',\n",
       " 'PSV',\n",
       " 'PUNTSTUK',\n",
       " 'QUOVADIS',\n",
       " 'RAILDEMPER',\n",
       " 'RAILGEBOUW',\n",
       " 'REEDSTUUR',\n",
       " 'REISINF',\n",
       " 'RELAIS',\n",
       " 'RELAISB1',\n",
       " 'RELAISB2',\n",
       " 'RELAISCT',\n",
       " 'RELAISTIJD',\n",
       " 'RELAISVTB',\n",
       " 'REMBEPINST',\n",
       " 'REMBEPRKST',\n",
       " 'REMPRINST',\n",
       " 'RETA1500V',\n",
       " 'RETOURLEID',\n",
       " 'RIJDRAAD',\n",
       " 'RIJWIELST',\n",
       " 'RISANALOOG',\n",
       " 'RISDIGITAL',\n",
       " 'ROLTRAPPEN',\n",
       " 'RUIMTE',\n",
       " 'SCHAKELST',\n",
       " 'SECUND_INS',\n",
       " 'SEIN',\n",
       " 'SEINBRUG',\n",
       " 'SEINLAMPH',\n",
       " 'SEINLED',\n",
       " 'SEINMSG',\n",
       " 'SEIN_BORD',\n",
       " 'SERVER',\n",
       " 'SERVPUNT',\n",
       " 'SERVRNGPER',\n",
       " 'SLOTEN',\n",
       " 'SMEERINR',\n",
       " 'SMLCLCCOM',\n",
       " 'SMLSERVER',\n",
       " 'SMLSUPPCOM',\n",
       " 'SMLSUPPEQ',\n",
       " 'SMLTFMCOM',\n",
       " 'SNSCHAKAUT',\n",
       " 'SOFTWARE',\n",
       " 'SPANSLUIS',\n",
       " 'SPDVBSCHAK',\n",
       " 'SPOORBEGR',\n",
       " 'SPOORBEV',\n",
       " 'SPOORBRUG',\n",
       " 'SPOORCONST',\n",
       " 'SPOORDRKW',\n",
       " 'SPOORDWL',\n",
       " 'SPOORSPS',\n",
       " 'SPOORSTUK',\n",
       " 'SPOORTAK',\n",
       " 'SPOORTOEST',\n",
       " 'SPOORTUN',\n",
       " 'SPRAAKCOM',\n",
       " 'SPRVIADUCT',\n",
       " 'SSCSKAST',\n",
       " 'SSCSKOP',\n",
       " 'STABCONSTR',\n",
       " 'STATION',\n",
       " 'STATIONGEB',\n",
       " 'STATIONHAL',\n",
       " 'STATIONTUN',\n",
       " 'STATOMROEP',\n",
       " 'STATOUTILL',\n",
       " 'STATTRAFO',\n",
       " 'STORSIGDEC',\n",
       " 'STORSIGN',\n",
       " 'STRAHERSTS',\n",
       " 'STRKREGEL',\n",
       " 'STROOMRAIL',\n",
       " 'SYSTBOVENL',\n",
       " 'TALUDTRAP',\n",
       " 'TANKINST',\n",
       " 'TANKVOORZ',\n",
       " 'TBHHARDW',\n",
       " 'TECHNRUIM',\n",
       " 'TECINSTGEB',\n",
       " 'TELCENTRAL',\n",
       " 'TELECOMKBL',\n",
       " 'TELEFOONS',\n",
       " 'TERREIN',\n",
       " 'TERREININR',\n",
       " 'TERREINVL',\n",
       " 'TIJDCOM',\n",
       " 'TIJDHP/OP',\n",
       " 'TIJDKLOK',\n",
       " 'TIJDONTVAN',\n",
       " 'TOEGANG',\n",
       " 'TOEGANGBEV',\n",
       " 'TOEGANGPRT',\n",
       " 'TOEGANGSVZ',\n",
       " 'TOEGTRANVZ',\n",
       " 'TONGBEW',\n",
       " 'TONGCONTR',\n",
       " 'TRAFO',\n",
       " 'TRAFOGR',\n",
       " 'TRANSFERVZ',\n",
       " 'TRANSMISSI',\n",
       " 'TREINBEINV',\n",
       " 'TREINVOORV',\n",
       " 'TRGELIJKR',\n",
       " 'TRGROEP',\n",
       " 'TRTRAFO',\n",
       " 'TTI',\n",
       " 'TUNCONSTR',\n",
       " 'UPS',\n",
       " 'UPSTBP21TE',\n",
       " 'VASTETRAP',\n",
       " 'VASTGOED_G',\n",
       " 'VASTGOED_R',\n",
       " 'VASTPUNT',\n",
       " 'VERBINDOBJ',\n",
       " 'VERGRENDEL',\n",
       " 'VERHARDING',\n",
       " 'VERKBRGVIA',\n",
       " 'VERLTRANSF',\n",
       " 'VERVALKW',\n",
       " 'VIDEOCOMMU',\n",
       " 'VISUELERIS',\n",
       " 'VOEDBEWAK',\n",
       " 'VOEDING',\n",
       " 'VOEDINGSOV',\n",
       " 'VOEDKAST',\n",
       " 'VPIEXINTEQ',\n",
       " 'VPIMODULE',\n",
       " 'VPISUPPCOM',\n",
       " 'VPISUPPEQ',\n",
       " 'V_LEIDING',\n",
       " 'WACHSTATGB',\n",
       " 'WASMBVL',\n",
       " 'WASVULHYDR',\n",
       " 'WATERAANSL',\n",
       " 'WATERVPUNT',\n",
       " 'WEERSTAT',\n",
       " 'WERKPLBBED',\n",
       " 'WERKPLBEV',\n",
       " 'WERKPLBSIG',\n",
       " 'WERKPLHHT',\n",
       " 'WINDVAAN',\n",
       " 'WISSBEDIEN',\n",
       " 'WISSCONS',\n",
       " 'WISSEL',\n",
       " 'WISSELSTEL',\n",
       " 'WISSMOTOR',\n",
       " 'WISVERWINS',\n",
       " 'WVKAST',\n",
       " 'Y_DRAAD',\n",
       " 'ZETVRPLAAT',\n",
       " 'ZIJWBEV',\n",
       " 'ZINKERKAST',\n",
       " 'ZMX']"
      ]
     },
     "execution_count": 32,
     "metadata": {},
     "output_type": "execute_result"
    }
   ],
   "source": [
    "list(X_train_dt.columns)"
   ]
  },
  {
   "cell_type": "code",
   "execution_count": 34,
   "metadata": {},
   "outputs": [
    {
     "data": {
      "text/plain": [
       "['stm_equipm_nr_mld',\n",
       " 'stm_prioriteit',\n",
       " 'stm_km_tot_mld',\n",
       " 'stm_rapportage_jaar',\n",
       " 'spring',\n",
       " 'summer',\n",
       " 'autumn',\n",
       " 'winter']"
      ]
     },
     "execution_count": 34,
     "metadata": {},
     "output_type": "execute_result"
    }
   ],
   "source": [
    "list(X_train_kn.columns)"
   ]
  }
 ],
 "metadata": {
  "kernelspec": {
   "display_name": "Python 3",
   "language": "python",
   "name": "python3"
  },
  "language_info": {
   "codemirror_mode": {
    "name": "ipython",
    "version": 3
   },
   "file_extension": ".py",
   "mimetype": "text/x-python",
   "name": "python",
   "nbconvert_exporter": "python",
   "pygments_lexer": "ipython3",
   "version": "3.8.8"
  }
 },
 "nbformat": 4,
 "nbformat_minor": 1
}