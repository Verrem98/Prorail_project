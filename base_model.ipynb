{
 "cells": [
  {
   "cell_type": "code",
   "execution_count": 1,
   "metadata": {
    "pycharm": {
     "name": "#%%\n"
    }
   },
   "outputs": [],
   "source": [
    "import numpy as np \n",
    "import pandas as pd \n",
    "import matplotlib.pyplot as pl\n",
    "import scipy.stats as stats\n",
    "from sklearn.metrics import mean_squared_error\n",
    "from sklearn.model_selection import train_test_split\n",
    "import seaborn as sns\n",
    "from sklearn.model_selection import GridSearchCV\n",
    "from sklearn.tree import DecisionTreeClassifier\n",
    "from sklearn.linear_model import LinearRegression\n",
    "from sklearn.pipeline import Pipeline\n",
    "from sklearn.ensemble import RandomForestClassifier\n",
    "from sklearn.linear_model import LogisticRegression\n",
    "import matplotlib.pyplot as plt\n",
    "from sklearn.neighbors import KNeighborsClassifier\n",
    "from sklearn import svm\n",
    "from sklearn.gaussian_process import GaussianProcessClassifier\n",
    "from sklearn.model_selection import train_test_split\n",
    "from datetime import datetime\n",
    "from sklearn.metrics import accuracy_score\n"
   ]
  },
  {
   "cell_type": "code",
   "execution_count": 2,
   "metadata": {
    "pycharm": {
     "name": "#%%\n"
    }
   },
   "outputs": [
    {
     "name": "stderr",
     "output_type": "stream",
     "text": [
      "C:\\Users\\emiel\\anaconda3\\lib\\site-packages\\IPython\\core\\interactiveshell.py:3165: DtypeWarning: Columns (0,11,19,21,24,25,27,32,33,36,37,38,39,40,46,47,48,49,51,53,55,56,60,73,75,78,80,82,83,86,87,91,95,99,102,103,104,107,108,109,110,111,112,113,116,118,119,120,121,122,123,124,129) have mixed types.Specify dtype option on import or set low_memory=False.\n",
      "  has_raised = await self.run_ast_nodes(code_ast.body, cell_name,\n"
     ]
    }
   ],
   "source": [
    "df = pd.read_csv('sap_storing_data_hu_project.csv')"
   ]
  },
  {
   "cell_type": "code",
   "execution_count": 3,
   "metadata": {
    "pycharm": {
     "name": "#%%\n"
    }
   },
   "outputs": [],
   "source": [
    "def column_outlier(strength, dataframe, columns):\n",
    "    temp_dataframe = dataframe.copy()\n",
    "    try:\n",
    "        if strength == 's':\n",
    "            strength=3\n",
    "        elif strength == 'a':\n",
    "            strength=1.5\n",
    "    except:\n",
    "        print(\"Invalid strength\")\n",
    "    for column in columns:\n",
    "        Q1 = temp_dataframe[column].quantile(0.25)\n",
    "        Q3 = temp_dataframe[column].quantile(0.75)\n",
    "        IQR = Q3 - Q1\n",
    "        temp_dataframe = temp_dataframe[~((temp_dataframe[column] < (Q1 - strength * IQR)) |(temp_dataframe[column] > (Q3 + strength* IQR)))]\n",
    "    return temp_dataframe"
   ]
  },
  {
   "cell_type": "code",
   "execution_count": 4,
   "metadata": {
    "pycharm": {
     "name": "#%%\n"
    }
   },
   "outputs": [],
   "source": [
    "def get_accuracy(r,zip_list):\n",
    "\n",
    "    return len([ _ for x in zip_list if x[0]+r >= x[1] >= x[0]-r])/len(zip_list)"
   ]
  },
  {
   "cell_type": "markdown",
   "metadata": {
    "pycharm": {
     "name": "#%% md\n"
    }
   },
   "source": [
    "<h2>Data Cleaning </h2>"
   ]
  },
  {
   "cell_type": "code",
   "execution_count": 5,
   "metadata": {
    "pycharm": {
     "name": "#%%\n"
    }
   },
   "outputs": [],
   "source": [
    "# ik zorg er hier voor dat de 'stm_progfh_in_duur' kolom naar floats gecast wordt\n",
    "df.stm_progfh_in_duur = df.stm_progfh_in_duur.apply(lambda x: float(str(x).replace('-','').replace('*','').strip()))\n",
    "\n",
    "# delete stm_fh_duur outliers\n",
    "#df = column_outlier('a', df.copy(), ['stm_fh_duur'])\n",
    "\n",
    "\n",
    "# voeg dummy kolommen voor seizoenen toe\n",
    "df.stm_sap_melddatum = pd.to_datetime(df.stm_sap_melddatum)\n",
    "\n",
    "df['date_offset'] = (df.stm_sap_melddatum.dt.month*100 + df.stm_sap_melddatum.dt.day - 320)%1300\n",
    "\n",
    "df['seizoen_melding'] = pd.cut(df['date_offset'], [0, 300, 602, 900, 1300], \n",
    "                      labels=['spring', 'summer', 'autumn', 'winter'])\n",
    "\n",
    "df.drop(['date_offset'], axis=1)\n",
    "df = df.join(pd.get_dummies(df.seizoen_melding))\n",
    "\n",
    "# join de oorzaakcodes\n",
    "o_df = pd.read_csv('Oorzaakcodes.csv', sep = ';')\n",
    "o_df = o_df.rename(columns={'Code': 'stm_oorz_code'})\n",
    "df = df.merge(o_df, on = 'stm_oorz_code', how = 'outer')\n",
    "\n",
    "\n",
    "\n",
    "# maak target var bins zodat we classification kunnen gebruiken\n",
    "error_margin  = 10\n",
    "bins = [x for x in range(0,900,error_margin)]\n",
    "labels = [x for x in range(1,len(bins))]\n",
    "df['duration_bin'] = pd.cut(df['stm_fh_duur'], bins = bins, labels=labels)\n",
    "\n",
    "\n",
    "# we willen alleen durations die niet gelijk zijn aan 0 en kleiner zijn dan 8 uur\n",
    "df = df[(df.stm_fh_duur != 0) & (df.duration_bin <= 48)]\n",
    "\n",
    "\n",
    "# kolom voor meltijd h\n",
    "df['meldtijd_h'] = df.stm_sap_meldtijd.str.split(':').str[0]"
   ]
  },
  {
   "cell_type": "code",
   "execution_count": 6,
   "metadata": {
    "pycharm": {
     "name": "#%%\n"
    }
   },
   "outputs": [],
   "source": [
    "pd.set_option('display.max_rows', None)"
   ]
  },
  {
   "cell_type": "code",
   "execution_count": 7,
   "metadata": {
    "pycharm": {
     "name": "#%%\n"
    }
   },
   "outputs": [],
   "source": [
    "pd.set_option('display.max_columns', None)"
   ]
  },
  {
   "cell_type": "code",
   "execution_count": 8,
   "metadata": {
    "pycharm": {
     "name": "#%%\n"
    }
   },
   "outputs": [
    {
     "data": {
      "text/plain": [
       "<AxesSubplot:xlabel='stm_fh_duur', ylabel='Density'>"
      ]
     },
     "execution_count": 8,
     "metadata": {},
     "output_type": "execute_result"
    },
    {
     "data": {
      "image/png": "[encoded data removed]",
      "text/plain": [
       "<Figure size 432x288 with 1 Axes>"
      ]
     },
     "metadata": {
      "needs_background": "light"
     },
     "output_type": "display_data"
    }
   ],
   "source": [
    "sns.kdeplot(df.stm_fh_duur)"
   ]
  },
  {
   "cell_type": "markdown",
   "metadata": {
    "pycharm": {
     "name": "#%% md\n"
    }
   },
   "source": [
    "<h2> MODEL COMPARISON </h2>"
   ]
  },
  {
   "cell_type": "code",
   "execution_count": 9,
   "metadata": {
    "pycharm": {
     "name": "#%%\n"
    },
    "scrolled": true
   },
   "outputs": [
    {
     "data": {
      "text/plain": [
       "0.5716654719746654"
      ]
     },
     "execution_count": 9,
     "metadata": {},
     "output_type": "execute_result"
    }
   ],
   "source": [
    "# svm, random forests en gaussion process classifier duren veels te lang op deze dataset\n",
    "\n",
    "dt_df = df.copy()[['duration_bin', 'stm_equipm_nr_mld','stm_reactie_duur', 'stm_prioriteit', 'stm_km_tot_mld', 'stm_km_van_mld','spring', 'summer','autumn','winter']].dropna()\n",
    "\n",
    "\n",
    "dt_df = dt_df.join(pd.get_dummies(df.stm_contractgeb_gst)).dropna()\n",
    "dt_df = dt_df.join(pd.get_dummies(df.meldtijd_h)).dropna()\n",
    "\n",
    "\n",
    "X = dt_df.drop(columns = ['duration_bin'])\n",
    "y = dt_df['duration_bin']\n",
    "\n",
    "\n",
    "\n",
    "X_train_dt, X_test_dt, y_train_dt, y_test_dt = train_test_split(X, y, test_size=0.2)\n",
    "\n",
    "#c = GridSearchCV(DecisionTreeClassifier(), {'max_depth' : [i for i in range(1,200)]})\n",
    "#clf = c.fit(X_train_dt, y_train_dt)\n",
    "\n",
    "clf = DecisionTreeClassifier(max_depth = 84, random_state = 0).fit(X_train_dt, y_train_dt)\n",
    "y_pred_dt = clf.predict(X_test_dt)\n",
    "\n",
    "accuracy_score(y_test_dt,y_pred_dt)"
   ]
  },
  {
   "cell_type": "code",
   "execution_count": 10,
   "metadata": {},
   "outputs": [
    {
     "data": {
      "text/plain": [
       "0.5528891932084434"
      ]
     },
     "execution_count": 10,
     "metadata": {},
     "output_type": "execute_result"
    }
   ],
   "source": [
    "kn_df = df[['duration_bin','stm_equipm_nr_mld','stm_reactie_duur', 'stm_prioriteit', 'stm_km_tot_mld', 'stm_rapportage_jaar','spring', 'summer','autumn','winter']].dropna()\n",
    "\n",
    "X = kn_df.drop(columns = ['duration_bin'])\n",
    "y = kn_df.duration_bin\n",
    "\n",
    "X_train_kn, X_test_kn, y_train_kn, y_test_kn = train_test_split(X, y, test_size=0.2)\n",
    "\n",
    "clf2 = KNeighborsClassifier(n_neighbors = 1).fit(X_train_kn, y_train_kn)\n",
    "\n",
    "y_pred_kn = clf2.predict(X_test_kn)\n",
    "accuracy_score(y_test_kn,y_pred_kn)"
   ]
  },
  {
   "cell_type": "code",
   "execution_count": 11,
   "metadata": {},
   "outputs": [],
   "source": [
    "bins = [x for x in range(0,900,error_margin)]\n",
    "labels = [x for x in range(1,len(bins))]\n",
    "prog_df = df.copy()[['stm_progfh_in_duur','duration_bin']]\n",
    "prog_df = column_outlier('a', prog_df.copy(), ['stm_progfh_in_duur'])\n",
    "prog_df['prog_duration_bin'] = pd.cut(prog_df['stm_progfh_in_duur'], bins = bins, labels=labels)\n",
    "prog_df = prog_df.dropna()\n",
    "prog_df = prog_df[['duration_bin', 'prog_duration_bin']]"
   ]
  },
  {
   "cell_type": "code",
   "execution_count": 12,
   "metadata": {
    "pycharm": {
     "name": "#%%\n"
    }
   },
   "outputs": [
    {
     "data": {
      "image/png": "[encoded data removed]",
      "text/plain": [
       "<Figure size 432x288 with 1 Axes>"
      ]
     },
     "metadata": {
      "needs_background": "light"
     },
     "output_type": "display_data"
    }
   ],
   "source": [
    "x_ax = [error_margin +(20*x) for x in range(0,30)]\n",
    "\n",
    "y1_ax = [get_accuracy(x, list(zip(list(y_test_dt), y_pred_dt))) for x in range(0,30)]\n",
    "y2_ax = [get_accuracy(x, list(zip(list(y_test_kn), y_pred_kn))) for x in range(0,30)]\n",
    "\n",
    "df_co = df.copy()[['Oorzaak', 'duration_bin']].dropna()\n",
    "X = df_co['Oorzaak']\n",
    "y = df_co['duration_bin']\n",
    "\n",
    "X_train, X_test, y_train, y_test = train_test_split(X, y, test_size=0.2)\n",
    "\n",
    "\n",
    "y3_ax = [get_accuracy(x, list(zip(list(prog_df.duration_bin), list(prog_df.prog_duration_bin)))) for x in range(0,30)]\n",
    "\n",
    "\n",
    "plt.plot(x_ax,y1_ax, label = 'Decision Tree')\n",
    "plt.plot(x_ax,y2_ax, label = 'kNN')\n",
    "plt.plot(x_ax,y3_ax, label = 'ProRail Prognose')\n",
    "\n",
    "\n",
    "\n",
    "plt.xlabel('bin size in minutes')\n",
    "plt.ylabel('accuracy score')\n",
    "\n",
    "plt.legend()\n",
    "plt.show()"
   ]
  },
  {
   "cell_type": "code",
   "execution_count": 13,
   "metadata": {
    "pycharm": {
     "name": "#%%\n"
    }
   },
   "outputs": [
    {
     "data": {
      "image/png": "[encoded data removed]",
      "text/plain": [
       "<Figure size 432x288 with 1 Axes>"
      ]
     },
     "metadata": {
      "needs_background": "light"
     },
     "output_type": "display_data"
    }
   ],
   "source": [
    "labels = ['Decision Tree', 'kNN', 'ProRail Prognose']\n",
    "\n",
    "min_10 = [100 * eval(f\"y{i}_ax[0]\") for i in range(1,len(labels)+1)]\n",
    "min_30 = [100 * (eval(f\"y{i}_ax[1]\") - eval(f\"y{i}_ax[0]\")) for i in range(1,len(labels)+1)]\n",
    "min_50 = [100 * (eval(f\"y{i}_ax[2]\") - eval(f\"y{i}_ax[1]\")) for i in range(1,len(labels)+1)]\n",
    "\n",
    "width = 0.4  \n",
    "\n",
    "fig, ax = plt.subplots()\n",
    "\n",
    "ax.bar(labels, min_10, width, label='max 10 minuten error', color = '#66ff99')\n",
    "ax.bar(labels, min_30, width ,bottom=min_10,label='max 30 minuten error', color = '#ffd966')\n",
    "ax.bar(labels, min_50, width ,bottom=(np.array(min_30) + np.array(min_10)),label='max 50 minuten error', color = '#ff6666')\n",
    "\n",
    "\n",
    "ax.set_ylabel('succesvolle classificatie in %')\n",
    "ax.set_title('Nauwkeurigheid voorspellen hersteltijd')\n",
    "\n",
    "ax.legend(loc='center left', bbox_to_anchor=(1, 0.5))\n",
    "plt.xticks(rotation=30)\n",
    "\n",
    "plt.show()"
   ]
  },
  {
   "cell_type": "code",
   "execution_count": 14,
   "metadata": {},
   "outputs": [
    {
     "data": {
      "text/plain": [
       "['stm_equipm_nr_mld',\n",
       " 'stm_reactie_duur',\n",
       " 'stm_prioriteit',\n",
       " 'stm_km_tot_mld',\n",
       " 'stm_km_van_mld',\n",
       " 'spring',\n",
       " 'summer',\n",
       " 'autumn',\n",
       " 'winter',\n",
       " 0.0,\n",
       " 1.0,\n",
       " 2.0,\n",
       " 3.0,\n",
       " 4.0,\n",
       " 5.0,\n",
       " 6.0,\n",
       " 7.0,\n",
       " 8.0,\n",
       " 9.0,\n",
       " 10.0,\n",
       " 11.0,\n",
       " 12.0,\n",
       " 13.0,\n",
       " 14.0,\n",
       " 15.0,\n",
       " 16.0,\n",
       " 17.0,\n",
       " 18.0,\n",
       " 19.0,\n",
       " 20.0,\n",
       " 21.0,\n",
       " 22.0,\n",
       " 23.0,\n",
       " 24.0,\n",
       " 25.0,\n",
       " 26.0,\n",
       " 27.0,\n",
       " 28.0,\n",
       " 29.0,\n",
       " 30.0,\n",
       " 31.0,\n",
       " 32.0,\n",
       " 33.0,\n",
       " 34.0,\n",
       " 35.0,\n",
       " 36.0,\n",
       " 37.0,\n",
       " 50.0,\n",
       " 51.0,\n",
       " 52.0,\n",
       " 53.0,\n",
       " 54.0,\n",
       " 55.0,\n",
       " 56.0,\n",
       " 57.0,\n",
       " 58.0,\n",
       " 59.0,\n",
       " 60.0,\n",
       " 61.0,\n",
       " 62.0,\n",
       " 63.0,\n",
       " 64.0,\n",
       " 70.0,\n",
       " 71.0,\n",
       " 81.0,\n",
       " 82.0,\n",
       " 83.0,\n",
       " 99.0,\n",
       " '',\n",
       " '00',\n",
       " '01',\n",
       " '02',\n",
       " '03',\n",
       " '04',\n",
       " '05',\n",
       " '06',\n",
       " '07',\n",
       " '08',\n",
       " '09',\n",
       " '10',\n",
       " '11',\n",
       " '12',\n",
       " '13',\n",
       " '14',\n",
       " '15',\n",
       " '16',\n",
       " '17',\n",
       " '18',\n",
       " '19',\n",
       " '20',\n",
       " '21',\n",
       " '22',\n",
       " '23']"
      ]
     },
     "execution_count": 14,
     "metadata": {},
     "output_type": "execute_result"
    }
   ],
   "source": [
    "list(X_train_dt.columns)"
   ]
  },
  {
   "cell_type": "code",
   "execution_count": 15,
   "metadata": {},
   "outputs": [
    {
     "data": {
      "text/plain": [
       "['stm_equipm_nr_mld',\n",
       " 'stm_reactie_duur',\n",
       " 'stm_prioriteit',\n",
       " 'stm_km_tot_mld',\n",
       " 'stm_rapportage_jaar',\n",
       " 'spring',\n",
       " 'summer',\n",
       " 'autumn',\n",
       " 'winter']"
      ]
     },
     "execution_count": 15,
     "metadata": {},
     "output_type": "execute_result"
    }
   ],
   "source": [
    "list(X_train_kn.columns)"
   ]
  },
  {
   "cell_type": "code",
   "execution_count": 16,
   "metadata": {},
   "outputs": [
    {
     "data": {
      "text/plain": [
       "0.08928084097409525"
      ]
     },
     "execution_count": 16,
     "metadata": {},
     "output_type": "execute_result"
    }
   ],
   "source": [
    "# base chance for a right classification by guessing the most common bin\n",
    "max(df.duration_bin.dropna().value_counts())/len(df.duration_bin.dropna())"
   ]
  },
  {
   "cell_type": "code",
   "execution_count": 22,
   "metadata": {},
   "outputs": [
    {
     "data": {
      "text/plain": [
       "[0.5716654719746654, 0.6572018530207876, 0.7207951299361286]"
      ]
     },
     "execution_count": 22,
     "metadata": {},
     "output_type": "execute_result"
    }
   ],
   "source": [
    "# decision tree\n",
    "[y1_ax[0],y1_ax[1],y1_ax[2]]"
   ]
  },
  {
   "cell_type": "code",
   "execution_count": 23,
   "metadata": {},
   "outputs": [
    {
     "data": {
      "text/plain": [
       "[0.5528891932084434, 0.6394633514855192, 0.7029710385261424]"
      ]
     },
     "execution_count": 23,
     "metadata": {},
     "output_type": "execute_result"
    }
   ],
   "source": [
    "# kNN\n",
    "[y2_ax[0],y2_ax[1],y2_ax[2]]"
   ]
  },
  {
   "cell_type": "code",
   "execution_count": 24,
   "metadata": {},
   "outputs": [
    {
     "data": {
      "text/plain": [
       "[0.12693245519217716, 0.24573540132223926, 0.34697468640808427]"
      ]
     },
     "execution_count": 24,
     "metadata": {},
     "output_type": "execute_result"
    }
   ],
   "source": [
    "# prorail prognose\n",
    "[y3_ax[0],y3_ax[1],y3_ax[2]]"
   ]
  }
 ],
 "metadata": {
  "kernelspec": {
   "display_name": "Python 3",
   "language": "python",
   "name": "python3"
  },
  "language_info": {
   "codemirror_mode": {
    "name": "ipython",
    "version": 3
   },
   "file_extension": ".py",
   "mimetype": "text/x-python",
   "name": "python",
   "nbconvert_exporter": "python",
   "pygments_lexer": "ipython3",
   "version": "3.8.8"
  }
 },
 "nbformat": 4,
 "nbformat_minor": 1
}