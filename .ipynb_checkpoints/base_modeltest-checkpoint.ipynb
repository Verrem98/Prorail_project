{
 "cells": [
  {
   "cell_type": "code",
   "execution_count": 1,
   "metadata": {
    "pycharm": {
     "name": "#%%\n"
    }
   },
   "outputs": [],
   "source": [
    "import numpy as np \n",
    "import pandas as pd \n",
    "import matplotlib.pyplot as pl\n",
    "import scipy.stats as stats\n",
    "from sklearn.metrics import mean_squared_error\n",
    "from sklearn.model_selection import train_test_split\n",
    "import seaborn as sns\n",
    "from sklearn.model_selection import GridSearchCV\n",
    "from sklearn.tree import DecisionTreeClassifier\n",
    "from sklearn.linear_model import LinearRegression\n",
    "from sklearn.pipeline import Pipeline\n",
    "from sklearn.ensemble import RandomForestClassifier\n",
    "from sklearn.linear_model import LogisticRegression\n",
    "import matplotlib.pyplot as plt\n",
    "from sklearn.neighbors import KNeighborsClassifier\n",
    "from sklearn import svm\n",
    "from sklearn.gaussian_process import GaussianProcessClassifier\n",
    "from sklearn.model_selection import train_test_split\n",
    "from datetime import datetime\n",
    "from sklearn.metrics import accuracy_score\n",
    "from sklearn import tree\n",
    "from sklearn.metrics import r2_score\n",
    "import pickle\n"
   ]
  },
  {
   "cell_type": "code",
   "execution_count": 2,
   "metadata": {
    "pycharm": {
     "name": "#%%\n"
    }
   },
   "outputs": [
    {
     "ename": "KeyError",
     "evalue": "'#stm_sap_meldnr'",
     "output_type": "error",
     "traceback": [
      "\u001b[1;31m---------------------------------------------------------------------------\u001b[0m",
      "\u001b[1;31mKeyError\u001b[0m                                  Traceback (most recent call last)",
      "\u001b[1;32m~\\anaconda3\\lib\\site-packages\\pandas\\core\\indexes\\base.py\u001b[0m in \u001b[0;36mget_loc\u001b[1;34m(self, key, method, tolerance)\u001b[0m\n\u001b[0;32m   2894\u001b[0m             \u001b[1;32mtry\u001b[0m\u001b[1;33m:\u001b[0m\u001b[1;33m\u001b[0m\u001b[1;33m\u001b[0m\u001b[0m\n\u001b[1;32m-> 2895\u001b[1;33m                 \u001b[1;32mreturn\u001b[0m \u001b[0mself\u001b[0m\u001b[1;33m.\u001b[0m\u001b[0m_engine\u001b[0m\u001b[1;33m.\u001b[0m\u001b[0mget_loc\u001b[0m\u001b[1;33m(\u001b[0m\u001b[0mcasted_key\u001b[0m\u001b[1;33m)\u001b[0m\u001b[1;33m\u001b[0m\u001b[1;33m\u001b[0m\u001b[0m\n\u001b[0m\u001b[0;32m   2896\u001b[0m             \u001b[1;32mexcept\u001b[0m \u001b[0mKeyError\u001b[0m \u001b[1;32mas\u001b[0m \u001b[0merr\u001b[0m\u001b[1;33m:\u001b[0m\u001b[1;33m\u001b[0m\u001b[1;33m\u001b[0m\u001b[0m\n",
      "\u001b[1;32mpandas\\_libs\\index.pyx\u001b[0m in \u001b[0;36mpandas._libs.index.IndexEngine.get_loc\u001b[1;34m()\u001b[0m\n",
      "\u001b[1;32mpandas\\_libs\\index.pyx\u001b[0m in \u001b[0;36mpandas._libs.index.IndexEngine.get_loc\u001b[1;34m()\u001b[0m\n",
      "\u001b[1;32mpandas\\_libs\\hashtable_class_helper.pxi\u001b[0m in \u001b[0;36mpandas._libs.hashtable.PyObjectHashTable.get_item\u001b[1;34m()\u001b[0m\n",
      "\u001b[1;32mpandas\\_libs\\hashtable_class_helper.pxi\u001b[0m in \u001b[0;36mpandas._libs.hashtable.PyObjectHashTable.get_item\u001b[1;34m()\u001b[0m\n",
      "\u001b[1;31mKeyError\u001b[0m: '#stm_sap_meldnr'",
      "\nThe above exception was the direct cause of the following exception:\n",
      "\u001b[1;31mKeyError\u001b[0m                                  Traceback (most recent call last)",
      "\u001b[1;32m<ipython-input-2-c2585ad7483c>\u001b[0m in \u001b[0;36m<module>\u001b[1;34m\u001b[0m\n\u001b[0;32m      1\u001b[0m \u001b[0mdf\u001b[0m \u001b[1;33m=\u001b[0m \u001b[0mpd\u001b[0m\u001b[1;33m.\u001b[0m\u001b[0mread_csv\u001b[0m\u001b[1;33m(\u001b[0m\u001b[1;34m'sap_storing_data_hu_project.csv'\u001b[0m\u001b[1;33m)\u001b[0m\u001b[1;33m\u001b[0m\u001b[1;33m\u001b[0m\u001b[0m\n\u001b[1;32m----> 2\u001b[1;33m \u001b[0mdf\u001b[0m\u001b[1;33m[\u001b[0m\u001b[1;34m'#stm_sap_meldnr'\u001b[0m\u001b[1;33m]\u001b[0m\u001b[1;33m.\u001b[0m\u001b[0msort_index\u001b[0m\u001b[1;33m(\u001b[0m\u001b[0minplace\u001b[0m \u001b[1;33m=\u001b[0m \u001b[1;32mTrue\u001b[0m\u001b[1;33m)\u001b[0m\u001b[1;33m\u001b[0m\u001b[1;33m\u001b[0m\u001b[0m\n\u001b[0m\u001b[0;32m      3\u001b[0m \u001b[0mdf\u001b[0m\u001b[1;33m.\u001b[0m\u001b[0mdrop_duplicates\u001b[0m\u001b[1;33m(\u001b[0m\u001b[0msubset\u001b[0m \u001b[1;33m=\u001b[0m \u001b[1;34m'#stm_sap_meldnr'\u001b[0m\u001b[1;33m,\u001b[0m \u001b[0mkeep\u001b[0m \u001b[1;33m=\u001b[0m \u001b[1;34m'last'\u001b[0m\u001b[1;33m,\u001b[0m\u001b[0minplace\u001b[0m \u001b[1;33m=\u001b[0m \u001b[1;32mTrue\u001b[0m\u001b[1;33m)\u001b[0m\u001b[1;33m\u001b[0m\u001b[1;33m\u001b[0m\u001b[0m\n",
      "\u001b[1;32m~\\anaconda3\\lib\\site-packages\\pandas\\core\\frame.py\u001b[0m in \u001b[0;36m__getitem__\u001b[1;34m(self, key)\u001b[0m\n\u001b[0;32m   2900\u001b[0m             \u001b[1;32mif\u001b[0m \u001b[0mself\u001b[0m\u001b[1;33m.\u001b[0m\u001b[0mcolumns\u001b[0m\u001b[1;33m.\u001b[0m\u001b[0mnlevels\u001b[0m \u001b[1;33m>\u001b[0m \u001b[1;36m1\u001b[0m\u001b[1;33m:\u001b[0m\u001b[1;33m\u001b[0m\u001b[1;33m\u001b[0m\u001b[0m\n\u001b[0;32m   2901\u001b[0m                 \u001b[1;32mreturn\u001b[0m \u001b[0mself\u001b[0m\u001b[1;33m.\u001b[0m\u001b[0m_getitem_multilevel\u001b[0m\u001b[1;33m(\u001b[0m\u001b[0mkey\u001b[0m\u001b[1;33m)\u001b[0m\u001b[1;33m\u001b[0m\u001b[1;33m\u001b[0m\u001b[0m\n\u001b[1;32m-> 2902\u001b[1;33m             \u001b[0mindexer\u001b[0m \u001b[1;33m=\u001b[0m \u001b[0mself\u001b[0m\u001b[1;33m.\u001b[0m\u001b[0mcolumns\u001b[0m\u001b[1;33m.\u001b[0m\u001b[0mget_loc\u001b[0m\u001b[1;33m(\u001b[0m\u001b[0mkey\u001b[0m\u001b[1;33m)\u001b[0m\u001b[1;33m\u001b[0m\u001b[1;33m\u001b[0m\u001b[0m\n\u001b[0m\u001b[0;32m   2903\u001b[0m             \u001b[1;32mif\u001b[0m \u001b[0mis_integer\u001b[0m\u001b[1;33m(\u001b[0m\u001b[0mindexer\u001b[0m\u001b[1;33m)\u001b[0m\u001b[1;33m:\u001b[0m\u001b[1;33m\u001b[0m\u001b[1;33m\u001b[0m\u001b[0m\n\u001b[0;32m   2904\u001b[0m                 \u001b[0mindexer\u001b[0m \u001b[1;33m=\u001b[0m \u001b[1;33m[\u001b[0m\u001b[0mindexer\u001b[0m\u001b[1;33m]\u001b[0m\u001b[1;33m\u001b[0m\u001b[1;33m\u001b[0m\u001b[0m\n",
      "\u001b[1;32m~\\anaconda3\\lib\\site-packages\\pandas\\core\\indexes\\base.py\u001b[0m in \u001b[0;36mget_loc\u001b[1;34m(self, key, method, tolerance)\u001b[0m\n\u001b[0;32m   2895\u001b[0m                 \u001b[1;32mreturn\u001b[0m \u001b[0mself\u001b[0m\u001b[1;33m.\u001b[0m\u001b[0m_engine\u001b[0m\u001b[1;33m.\u001b[0m\u001b[0mget_loc\u001b[0m\u001b[1;33m(\u001b[0m\u001b[0mcasted_key\u001b[0m\u001b[1;33m)\u001b[0m\u001b[1;33m\u001b[0m\u001b[1;33m\u001b[0m\u001b[0m\n\u001b[0;32m   2896\u001b[0m             \u001b[1;32mexcept\u001b[0m \u001b[0mKeyError\u001b[0m \u001b[1;32mas\u001b[0m \u001b[0merr\u001b[0m\u001b[1;33m:\u001b[0m\u001b[1;33m\u001b[0m\u001b[1;33m\u001b[0m\u001b[0m\n\u001b[1;32m-> 2897\u001b[1;33m                 \u001b[1;32mraise\u001b[0m \u001b[0mKeyError\u001b[0m\u001b[1;33m(\u001b[0m\u001b[0mkey\u001b[0m\u001b[1;33m)\u001b[0m \u001b[1;32mfrom\u001b[0m \u001b[0merr\u001b[0m\u001b[1;33m\u001b[0m\u001b[1;33m\u001b[0m\u001b[0m\n\u001b[0m\u001b[0;32m   2898\u001b[0m \u001b[1;33m\u001b[0m\u001b[0m\n\u001b[0;32m   2899\u001b[0m         \u001b[1;32mif\u001b[0m \u001b[0mtolerance\u001b[0m \u001b[1;32mis\u001b[0m \u001b[1;32mnot\u001b[0m \u001b[1;32mNone\u001b[0m\u001b[1;33m:\u001b[0m\u001b[1;33m\u001b[0m\u001b[1;33m\u001b[0m\u001b[0m\n",
      "\u001b[1;31mKeyError\u001b[0m: '#stm_sap_meldnr'"
     ]
    }
   ],
   "source": [
    "df = pd.read_csv('sap_storing_data_hu_project.csv')\n",
    "df['#stm_sap_meldnr'].sort_index(inplace = True)\n",
    "df.drop_duplicates(subset = '#stm_sap_meldnr', keep = 'last',inplace = True)"
   ]
  },
  {
   "cell_type": "code",
   "execution_count": null,
   "metadata": {},
   "outputs": [],
   "source": [
    "pd.set_option('display.max_rows', df.shape[0]+1) #max aantal rows "
   ]
  },
  {
   "cell_type": "code",
   "execution_count": null,
   "metadata": {
    "pycharm": {
     "name": "#%%\n"
    }
   },
   "outputs": [],
   "source": [
    "def column_outlier(strength, dataframe, columns):\n",
    "    temp_dataframe = dataframe.copy()\n",
    "    try:\n",
    "        if strength == 's':\n",
    "            strength=3\n",
    "        elif strength == 'a':\n",
    "            strength=1.5\n",
    "    except:\n",
    "        print(\"Invalid strength\")\n",
    "    for column in columns:\n",
    "        Q1 = temp_dataframe[column].quantile(0.25)\n",
    "        Q3 = temp_dataframe[column].quantile(0.75)\n",
    "        IQR = Q3 - Q1\n",
    "        temp_dataframe = temp_dataframe[~((temp_dataframe[column] < (Q1 - strength * IQR)) |(temp_dataframe[column] > (Q3 + strength* IQR)))]\n",
    "    return temp_dataframe"
   ]
  },
  {
   "cell_type": "code",
   "execution_count": null,
   "metadata": {},
   "outputs": [],
   "source": [
    "def create_dummies(target_df, source_df, column):\n",
    "    \n",
    "    return target_df.join(pd.get_dummies(source_df.iloc[target_df.index][column]))"
   ]
  },
  {
   "cell_type": "code",
   "execution_count": null,
   "metadata": {
    "pycharm": {
     "name": "#%%\n"
    }
   },
   "outputs": [],
   "source": [
    "def get_accuracy(r,zip_list):\n",
    "    return len([ _ for x in zip_list if x[0]+r >= x[1] >= x[0]-r])/len(zip_list)"
   ]
  },
  {
   "cell_type": "markdown",
   "metadata": {
    "pycharm": {
     "name": "#%% md\n"
    }
   },
   "source": [
    "<h2>Data Cleaning </h2>"
   ]
  },
  {
   "cell_type": "code",
   "execution_count": null,
   "metadata": {
    "pycharm": {
     "name": "#%%\n"
    }
   },
   "outputs": [],
   "source": [
    "# we willen alleen durations die niet gelijk zijn aan 0 en kleiner zijn dan 8 uur\n",
    "df = df[(df.stm_fh_duur != 0) & (df.stm_fh_duur <= 480)]\n",
    "\n",
    "\n",
    "# ik zorg er hier voor dat de 'stm_progfh_in_duur' kolom naar floats gecast wordt\n",
    "df.stm_progfh_in_duur = df.stm_progfh_in_duur.apply(lambda x: float(str(x).replace('-','').replace('*','').strip()))\n",
    "\n",
    "# delete stm_fh_duur outliers\n",
    "#df = column_outlier('a', df.copy(), ['stm_fh_duur'])\n",
    "\n",
    "\n",
    "# voeg dummy kolommen voor seizoenen toe\n",
    "df.stm_sap_melddatum = pd.to_datetime(df.stm_sap_melddatum)\n",
    "\n",
    "df['date_offset'] = (df.stm_sap_melddatum.dt.month*100 + df.stm_sap_melddatum.dt.day - 320)%1300\n",
    "\n",
    "df['seizoen_melding'] = pd.cut(df.copy()['date_offset'], [0, 300, 602, 900, 1300], \n",
    "                      labels=['spring', 'summer', 'autumn', 'winter'])\n",
    "\n",
    "df.drop(['date_offset'], axis=1)\n",
    "df = df.join(pd.get_dummies(df.seizoen_melding))\n",
    "\n",
    "# join de oorzaakcodes\n",
    "o_df = pd.read_csv('Oorzaakcodes.csv', sep = ';')\n",
    "o_df = o_df.rename(columns={'Code': 'stm_oorz_code'})\n",
    "df = df.merge(o_df, on = 'stm_oorz_code', how = 'outer')\n",
    "\n",
    "# join de goetrajectcodes\n",
    "geo_df = pd.read_csv('geocodes.csv',sep = ';') \n",
    "geo_df = geo_df.rename(columns={'Code': 'stm_geo_mld'})\n",
    "df = df.merge(geo_df, on = 'stm_geo_mld', how = 'outer') \n",
    "\n",
    "# join de Contractgebiedcodes\n",
    "cg = pd.read_excel('Contractgebiedcodes.xlsx') \n",
    "cg = cg.rename(columns={'Code': 'stm_contractgeb_gst'})\n",
    "df = df.merge(cg, on = 'stm_contractgeb_gst', how = 'outer') \n",
    "\n",
    "# join de techniekvelden\n",
    "tgv_df = pd.read_csv('techniekvelden.csv', sep = ';')\n",
    "tgv_df = tgv_df.rename(columns={'Letter': 'stm_techn_mld'})\n",
    "df = df.merge(tgv_df, on = 'stm_techn_mld', how = 'outer') \n",
    "\n",
    "# maak target var bins zodat we classification kunnen gebruiken\n",
    "error_margin  = 5\n",
    "bins = [x for x in range(0,481,error_margin)]\n",
    "labels = [x for x in range(1,len(bins))]\n",
    "df['duration_bin'] = pd.cut(df['stm_fh_duur'], bins = bins, labels=labels)\n",
    "\n",
    "error_margin1  = 5\n",
    "bins1 = [x for x in range(0,481,error_margin1)]\n",
    "labels1 = [x for x in range(1,len(bins1))]\n",
    "df['duration_bin_reactie'] = pd.cut(df['stm_reactie_duur'], bins = bins1, labels=labels1)\n",
    "\n",
    "\n",
    "# kolom voor meltijd h\n",
    "df['meldtijd_h'] = df.stm_sap_meldtijd.str.split(':').str[0]\n",
    "\n",
    "\n",
    "# maak een kolom voor weeknummers van de melding\n",
    "df['weeknr']= df.stm_sap_melddatum.dt.isocalendar().week.apply(lambda x: 'w' + str(x))"
   ]
  },
  {
   "cell_type": "code",
   "execution_count": null,
   "metadata": {},
   "outputs": [],
   "source": [
    "df[['stm_techn_mld','Techniekveld OH plangroep']].value_counts()"
   ]
  },
  {
   "cell_type": "code",
   "execution_count": null,
   "metadata": {},
   "outputs": [],
   "source": []
  },
  {
   "cell_type": "code",
   "execution_count": null,
   "metadata": {
    "pycharm": {
     "name": "#%%\n"
    }
   },
   "outputs": [],
   "source": [
    "pd.set_option('display.max_rows', None)"
   ]
  },
  {
   "cell_type": "code",
   "execution_count": null,
   "metadata": {
    "pycharm": {
     "name": "#%%\n"
    }
   },
   "outputs": [],
   "source": [
    "pd.set_option('display.max_columns', None)"
   ]
  },
  {
   "cell_type": "code",
   "execution_count": null,
   "metadata": {
    "pycharm": {
     "name": "#%%\n"
    }
   },
   "outputs": [],
   "source": [
    "sns.kdeplot(df.stm_reactie_duur)"
   ]
  },
  {
   "cell_type": "code",
   "execution_count": null,
   "metadata": {},
   "outputs": [],
   "source": [
    "mean_durgeo_df = column_outlier('a', df.copy(), ['stm_reactie_duur'])[['stm_reactie_duur', 'Traject']].groupby('Traject', as_index = False).mean()\n",
    "mean_durgeo_df"
   ]
  },
  {
   "cell_type": "code",
   "execution_count": null,
   "metadata": {},
   "outputs": [],
   "source": [
    "x = 'stm_reactie_duur'\n",
    "y = 'Contractgebied'\n",
    "\n",
    "tplot = df.sample(300000)[[x, y]]\n",
    "tplot.sort_values(['stm_reactie_duur'], ascending=True, inplace=True)\n",
    "tplot.dropna(inplace=True)\n",
    "\n",
    "tplot.plot(x=x, y=y, kind='scatter',figsize=(10,10))"
   ]
  },
  {
   "cell_type": "code",
   "execution_count": null,
   "metadata": {},
   "outputs": [],
   "source": [
    "mean_cg_df = column_outlier('a', df.copy(), ['stm_reactie_duur'])[['stm_reactie_duur', 'Contractgebied']].groupby('Contractgebied', as_index = False).mean()\n",
    "plt.figure(figsize=(10,10))\n",
    "new_data= mean_cg_df.sort_values(by ='stm_reactie_duur' , ascending=False)\n",
    "new_data_sort=new_data\n",
    "ax=sns.pointplot(new_data_sort['stm_reactie_duur'], new_data_sort['Contractgebied'], hue=new_data_sort['Contractgebied'])\n",
    "ax.set_xticklabels(ax.get_xticklabels(), rotation=80, ha=\"right\")\n",
    "plt.tight_layout()\n",
    "plt.show()\n"
   ]
  },
  {
   "cell_type": "code",
   "execution_count": null,
   "metadata": {},
   "outputs": [],
   "source": [
    "df[df.columns[1:]].corr()['stm_fh_duur'][:]"
   ]
  },
  {
   "cell_type": "code",
   "execution_count": null,
   "metadata": {},
   "outputs": [],
   "source": [
    "mean_durgeo_df = column_outlier('a', df.copy(), ['stm_fh_duur'])[['stm_fh_duur', 'stm_prioriteit']].groupby('stm_prioriteit', as_index = False).mean()\n",
    "mean_durgeo_df"
   ]
  },
  {
   "cell_type": "code",
   "execution_count": null,
   "metadata": {},
   "outputs": [],
   "source": [
    "df.stm_prioriteit.value_counts()\n",
    "df.stm_prioriteit = df['stm_prioriteit'].dropna()           "
   ]
  },
  {
   "cell_type": "code",
   "execution_count": null,
   "metadata": {},
   "outputs": [],
   "source": [
    "\n",
    "df['stm_prioriteit_n'] = df['stm_prioriteit'].apply(lambda x: 1 if x in (1.0,2.0) else (2 if x in (4.0,5.0) else (3 if x == 8.0 else 4)))"
   ]
  },
  {
   "cell_type": "code",
   "execution_count": null,
   "metadata": {},
   "outputs": [],
   "source": [
    "df.stm_prioriteit_n.value_counts()"
   ]
  },
  {
   "cell_type": "code",
   "execution_count": null,
   "metadata": {},
   "outputs": [],
   "source": []
  },
  {
   "cell_type": "markdown",
   "metadata": {
    "pycharm": {
     "name": "#%% md\n"
    }
   },
   "source": [
    "<h2> MODEL COMPARISON </h2>"
   ]
  },
  {
   "cell_type": "code",
   "execution_count": null,
   "metadata": {},
   "outputs": [],
   "source": [
    "dt_df1 = df.copy()[['duration_bin_reactie', 'stm_km_tot_mld', 'stm_km_van_mld']].dropna()\n",
    "dt_df1 = create_dummies(dt_df1,df,['Traject','meldtijd_h','stm_equipm_soort_mld', 'weeknr', 'stm_techn_mld', 'Oorzaak'])\n",
    "dt_df1 = dt_df1.dropna()\n",
    "\n",
    "X1 = dt_df1.drop(columns = ['duration_bin_reactie'])\n",
    "y1 = dt_df1['duration_bin_reactie']\n",
    "\n",
    "X_train_db, X_test_db, y_train_db, y_test_db = train_test_split(X1, y1, test_size=0.2)\n",
    "clf1 = DecisionTreeClassifier(max_depth = 13, random_state = 0).fit(X_train_db, y_train_db)\n",
    "\n",
    "filename = 'Trained_ML_algorithms/decision_tree_duration_bin_reactie.sav'\n",
    "pickle.dump(clf1, open(filename, 'wb'))\n",
    "\n",
    "\n",
    "\n",
    "y_pred_db = clf1.predict(X_test_db)\n",
    "\n",
    "accuracy_score(y_test_db,y_pred_db)\n",
    "\n",
    "# predict_proba(X, check_input=True)[source]\n"
   ]
  },
  {
   "cell_type": "code",
   "execution_count": null,
   "metadata": {
    "pycharm": {
     "name": "#%%\n"
    }
   },
   "outputs": [],
   "source": [
    "dt_df = df.copy()[['duration_bin', 'stm_reactie_duur', 'stm_prioriteit_n','stm_km_van_mld', 'stm_km_tot_mld']].dropna()\n",
    "\n",
    "    \n",
    "dt_df = create_dummies(dt_df,df,['Traject','meldtijd_h','stm_equipm_soort_mld', 'weeknr','Oorzaak','stm_vl_post'])\n",
    "\n",
    "dt_df = dt_df.dropna()\n",
    "    \n",
    "# df.stm_fh_status = df.stm_fh_status.apply(lambda x: f\"status: {x}\")\n",
    "# dt_df = create_dummies(dt_df,df,['stm_fh_status'])\n",
    "\n",
    "X = dt_df.drop(columns = ['duration_bin'])\n",
    "y = dt_df['duration_bin']\n",
    "\n",
    "# clf = DecisionTreeClassifier(max_depth = 13, random_state = 0)\n",
    "\n",
    "\n",
    "X_train_dt, X_test_dt, y_train_dt, y_test_dt = train_test_split(X, y, test_size=0.2, random_state = 0)\n",
    "\n",
    "# c = GridSearchCV(DecisionTreeClassifier(random_state = 0), {'max_depth' : [22,32,42]})\n",
    "# clf = c.fit(X_train_dt, y_train_dt)\n",
    "\n",
    "clf = DecisionTreeClassifier(max_depth = 11, random_state = 0).fit(X_train_dt, y_train_dt)\n",
    "y_pred_dt = clf.predict(X_test_dt)\n",
    "\n",
    "# # from sklearn.model_selection import cross_val_score\n",
    "y1_ax = [get_accuracy(x, list(zip(list(y_test_dt), y_pred_dt))) for x in range(0,30)]\n",
    "\n",
    "filename = 'Trained_ML_algorithms/decision_tree.sav'\n",
    "pickle.dump(clf, open(filename, 'wb'))\n",
    "\n",
    "accuracy_score(y_test_dt,y_pred_dt)\n",
    "\n",
    "# scores = cross_val_score(clf, X, y, cv=5, scoring='accuracy')\n",
    "#0.1519"
   ]
  },
  {
   "cell_type": "code",
   "execution_count": null,
   "metadata": {},
   "outputs": [],
   "source": [
    "# corrMatrix = dt_df1.corr()\n",
    "# corrMatrix"
   ]
  },
  {
   "cell_type": "code",
   "execution_count": null,
   "metadata": {},
   "outputs": [],
   "source": [
    "# sns.set(rc = {'figure.figsize':(30,10)})\n",
    "# sns.heatmap(corrMatrix, annot=True)\n"
   ]
  },
  {
   "cell_type": "code",
   "execution_count": null,
   "metadata": {},
   "outputs": [],
   "source": [
    "# corrMatrix.boxplot(figsize=(30,10))"
   ]
  },
  {
   "cell_type": "code",
   "execution_count": null,
   "metadata": {},
   "outputs": [],
   "source": [
    "dt_df2 = df.copy()[['duration_bin','stm_reactie_duur','stm_prioriteit']].dropna()\n",
    "\n",
    "    \n",
    "dt_df2 = create_dummies(dt_df2,df,['weeknr','Oorzaak', 'Contractgebied'])\n",
    "\n",
    "dt_df2 = dt_df2.dropna()\n",
    "    \n",
    "\n",
    "X2 = dt_df2.drop(columns = ['duration_bin'])\n",
    "y2 = dt_df2['duration_bin']\n",
    "\n",
    "X_train_f, X_test_f, y_train_f, y_test_f = train_test_split(X2, y2, test_size=0.2, random_state = 0)\n",
    "\n",
    "clf3 = DecisionTreeClassifier(random_state = 0, min_samples_leaf = 75, max_depth = 13)\n",
    "clf3.fit(X_train_f.values, y_train_f)\n",
    "\n",
    "y_pred_f = clf3.predict(X_test_f)\n",
    "filename = 'Trained_ML_algorithms/mini_decision_tree.sav'\n",
    "pickle.dump(clf3, open(filename, 'wb'))\n",
    "\n",
    "y4_ax = [get_accuracy(x, list(zip(list(y_test_f), y_pred_f))) for x in range(0,30)]\n",
    "accuracy_score(y_test_f,y_pred_f)\n",
    "#0.1487192138481148"
   ]
  },
  {
   "cell_type": "code",
   "execution_count": null,
   "metadata": {},
   "outputs": [],
   "source": [
    "df.head()"
   ]
  },
  {
   "cell_type": "code",
   "execution_count": null,
   "metadata": {},
   "outputs": [],
   "source": [
    "set(list(df.Contractgebied))"
   ]
  },
  {
   "cell_type": "code",
   "execution_count": null,
   "metadata": {},
   "outputs": [],
   "source": [
    "y_train_f.head()"
   ]
  },
  {
   "cell_type": "code",
   "execution_count": null,
   "metadata": {},
   "outputs": [],
   "source": [
    "text_representation = tree.export_text(clf3)\n",
    "print(text_representation)"
   ]
  },
  {
   "cell_type": "code",
   "execution_count": null,
   "metadata": {},
   "outputs": [],
   "source": [
    "def get_weighted_prob_bin(prob_list):\n",
    "    \n",
    "    return round(sum([(count+1) * i for count,i in enumerate(prob_list)]))\n",
    "\n",
    "\n",
    "\n",
    "prob_df = pd.DataFrame({'probability_bin':[get_weighted_prob_bin(i) for i in clf3.predict_proba(X_test_f)], 'pred_bin':clf3.predict(X_test_f), 'actual_bin':y_test_f})\n",
    "prob_df = prob_df.astype('int')\n",
    "\n",
    "prob_df['prob_bin_error'] = abs(prob_df['probability_bin'] - prob_df['actual_bin'])\n",
    "prob_df['pred_bin_error'] = abs(prob_df['pred_bin'] - prob_df['actual_bin'])\n",
    "\n",
    "\n",
    "pred_accs = [get_accuracy(i, list(zip(prob_df.pred_bin,prob_df.actual_bin))) for i in range(30)]\n",
    "prob_accs = [get_accuracy(i, list(zip(prob_df.probability_bin,prob_df.actual_bin))) for i in range(30)]\n",
    "\n",
    "\n",
    "x_ax = [error_margin +(20*x) for x in range(0,30)]\n",
    "\n",
    "\n",
    "plt.plot(x_ax,pred_accs, label = 'Decision Tree Predictions')\n",
    "plt.plot(x_ax,prob_accs, label = 'Decision Tree Weighted Probabilities')\n",
    "\n",
    "\n",
    "plt.xlabel('bin size in minutes')\n",
    "plt.ylabel('accuracy score')\n",
    "\n",
    "plt.legend()\n",
    "plt.show()\n",
    "prob_df.describe()\n",
    "\n"
   ]
  },
  {
   "cell_type": "code",
   "execution_count": null,
   "metadata": {},
   "outputs": [],
   "source": [
    "df = df[df.meldtijd_h != \"\"]"
   ]
  },
  {
   "cell_type": "code",
   "execution_count": null,
   "metadata": {
    "pycharm": {
     "name": "#%%\n"
    },
    "scrolled": true
   },
   "outputs": [],
   "source": [
    "# svm, random forests en gaussion process classifier duren veels te lang op deze dataset\n",
    "\n",
    "kn_df = df[['duration_bin','stm_equipm_nr_mld','stm_reactie_duur', 'stm_prioriteit', 'stm_km_tot_mld','spring', 'summer','autumn','winter','stm_oorz_code','stm_contractgeb_gst']].dropna()\n",
    "\n",
    "X = kn_df.drop(columns = ['duration_bin'])\n",
    "y = kn_df.duration_bin\n",
    "\n",
    "X_train_kn, X_test_kn, y_train_kn, y_test_kn = train_test_split(X, y, test_size=0.2)\n",
    "\n",
    "clf2 = KNeighborsClassifier(n_neighbors = 13).fit(X_train_kn, y_train_kn)\n",
    "\n",
    "y_pred_kn = clf2.predict(X_test_kn)\n",
    "\n",
    "y2_ax = [get_accuracy(x, list(zip(list(y_test_kn), y_pred_kn))) for x in range(0,30)]\n",
    "\n",
    "accuracy_score(y_test_kn,y_pred_kn)\n",
    "\n"
   ]
  },
  {
   "cell_type": "code",
   "execution_count": null,
   "metadata": {},
   "outputs": [],
   "source": [
    "# vergelijk prorail prognose van hersteltijd met daadwerkelijke hersteltijd\n",
    "bins = [x for x in range(0,481,error_margin)]\n",
    "labels = [x for x in range(1,len(bins))]\n",
    "prog_df = df.copy()[['stm_progfh_in_duur','duration_bin']]\n",
    "prog_df = column_outlier('a', prog_df.copy(), ['stm_progfh_in_duur'])\n",
    "prog_df['prog_duration_bin'] = pd.cut(prog_df['stm_progfh_in_duur'], bins = bins, labels=labels)\n",
    "prog_df = prog_df.dropna()\n",
    "prog_df = prog_df[['duration_bin', 'prog_duration_bin']]\n",
    "\n",
    "y3_ax = [get_accuracy(x, list(zip(list(prog_df.duration_bin), list(prog_df.prog_duration_bin)))) for x in range(0,30)]"
   ]
  },
  {
   "cell_type": "code",
   "execution_count": null,
   "metadata": {
    "pycharm": {
     "name": "#%%\n"
    }
   },
   "outputs": [],
   "source": [
    "x_ax = [error_margin +(20*x) for x in range(0,30)]\n",
    "\n",
    "\n",
    "plt.plot(x_ax,y1_ax, label = 'Decision Tree')\n",
    "plt.plot(x_ax,y4_ax, label = 'Mini Decision Tree')\n",
    "plt.plot(x_ax,y2_ax, label = 'kNN')\n",
    "plt.plot(x_ax,y3_ax, label = 'ProRail Prognose')\n",
    "\n",
    "\n",
    "plt.xlabel('bin size in minutes')\n",
    "plt.ylabel('accuracy score')\n",
    "\n",
    "plt.legend()\n",
    "plt.show()\n"
   ]
  },
  {
   "cell_type": "code",
   "execution_count": null,
   "metadata": {
    "pycharm": {
     "name": "#%%\n"
    }
   },
   "outputs": [],
   "source": [
    "labels = ['Decision Tree','kNN', 'ProRail Prognose', 'Mini Decision Tree']\n",
    "\n",
    "bar_1 = [100 * eval(f\"y{i}_ax[0]\") for i in range(1,len(labels)+1)]\n",
    "bar_2 = [100 * (eval(f\"y{i}_ax[1]\") - eval(f\"y{i}_ax[0]\")) for i in range(1,len(labels)+1)]\n",
    "bar_3 = [100 * (eval(f\"y{i}_ax[2]\") - eval(f\"y{i}_ax[1]\")) for i in range(1,len(labels)+1)]\n",
    "bar_4 = [100 * (eval(f\"y{i}_ax[3]\") - eval(f\"y{i}_ax[2]\")) for i in range(1,len(labels)+1)]\n",
    "\n",
    "width = 0.4  \n",
    "\n",
    "fig, ax = plt.subplots()\n",
    "\n",
    "ax.bar(labels, bar_1, width, label=f'|pred_ht−target_ht| < {error_margin} (minuten)', color = '#00ff99')\n",
    "ax.bar(labels, bar_2, width ,bottom=bar_1,label=f'|pred_ht−target_ht| < {2*error_margin} (minuten)', color = '#bfff00')\n",
    "ax.bar(labels, bar_3, width ,bottom=(np.array(bar_2) + np.array(bar_1)),label=f'|pred_ht−target_ht| < {3*error_margin} (minuten)', color = '#ffbf00')\n",
    "ax.bar(labels, bar_4, width ,bottom=(np.array(bar_2) + np.array(bar_1) + np.array(bar_3)),label=f'|pred_ht−target_ht| < {4*error_margin} (minuten)', color = '#ff4000')\n",
    "\n",
    "\n",
    "ax.set_ylabel('succesvolle classificatie in %')\n",
    "ax.set_title('Nauwkeurigheid hersteltijd predictions')\n",
    "\n",
    "ax.legend(loc='center left', bbox_to_anchor=(1, 0.5))\n",
    "plt.xticks(rotation=30)\n",
    "\n",
    "plt.show()"
   ]
  },
  {
   "cell_type": "code",
   "execution_count": null,
   "metadata": {},
   "outputs": [],
   "source": [
    "list(X_train_dt.columns)"
   ]
  },
  {
   "cell_type": "code",
   "execution_count": null,
   "metadata": {},
   "outputs": [],
   "source": [
    "list(X_train_kn.columns)"
   ]
  },
  {
   "cell_type": "code",
   "execution_count": null,
   "metadata": {},
   "outputs": [],
   "source": [
    "list(X_train_f.columns)"
   ]
  },
  {
   "cell_type": "code",
   "execution_count": null,
   "metadata": {},
   "outputs": [],
   "source": [
    "# base chance for a right classification by guessing the most common bin\n",
    "max(df.duration_bin.dropna().value_counts())/len(df.duration_bin.dropna())"
   ]
  },
  {
   "cell_type": "code",
   "execution_count": null,
   "metadata": {},
   "outputs": [],
   "source": [
    "# decision tree\n",
    "[y1_ax[0],y1_ax[1],y1_ax[2]]"
   ]
  },
  {
   "cell_type": "code",
   "execution_count": null,
   "metadata": {},
   "outputs": [],
   "source": [
    "[y2_ax[0],y2_ax[1],y2_ax[2]]"
   ]
  },
  {
   "cell_type": "code",
   "execution_count": null,
   "metadata": {},
   "outputs": [],
   "source": [
    "# prorail prognose\n",
    "[y3_ax[0],y3_ax[1],y3_ax[2]]"
   ]
  },
  {
   "cell_type": "code",
   "execution_count": null,
   "metadata": {},
   "outputs": [],
   "source": [
    "#mini decision tree\n",
    "[y4_ax[0],y4_ax[1],y4_ax[2]]"
   ]
  },
  {
   "cell_type": "code",
   "execution_count": null,
   "metadata": {},
   "outputs": [],
   "source": [
    "print(len(X_test_f)) ##mini decision tree"
   ]
  }
 ],
 "metadata": {
  "kernelspec": {
   "display_name": "Python 3",
   "language": "python",
   "name": "python3"
  },
  "language_info": {
   "codemirror_mode": {
    "name": "ipython",
    "version": 3
   },
   "file_extension": ".py",
   "mimetype": "text/x-python",
   "name": "python",
   "nbconvert_exporter": "python",
   "pygments_lexer": "ipython3",
   "version": "3.8.5"
  }
 },
 "nbformat": 4,
 "nbformat_minor": 1
}
