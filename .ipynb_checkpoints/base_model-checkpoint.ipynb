{
 "cells": [
  {
   "cell_type": "code",
   "execution_count": 1,
   "metadata": {
    "pycharm": {
     "name": "#%%\n"
    }
   },
   "outputs": [],
   "source": [
    "import numpy as np \n",
    "import pandas as pd \n",
    "import matplotlib.pyplot as pl\n",
    "import scipy.stats as stats\n",
    "from sklearn.metrics import mean_squared_error\n",
    "from sklearn.model_selection import train_test_split\n",
    "import seaborn as sns"
   ]
  },
  {
   "cell_type": "code",
   "execution_count": 2,
   "metadata": {
    "pycharm": {
     "name": "#%%\n"
    }
   },
   "outputs": [
    {
     "name": "stderr",
     "output_type": "stream",
     "text": [
      "C:\\Users\\hasso\\anaconda3\\lib\\site-packages\\IPython\\core\\interactiveshell.py:3146: DtypeWarning: Columns (0,11,19,21,24,25,27,32,33,36,37,38,39,40,46,47,48,49,51,53,55,56,60,73,75,78,80,82,83,86,87,91,95,99,102,103,104,107,108,109,110,111,112,113,116,118,119,120,121,122,123,124,129) have mixed types.Specify dtype option on import or set low_memory=False.\n",
      "  has_raised = await self.run_ast_nodes(code_ast.body, cell_name,\n"
     ]
    }
   ],
   "source": [
    "df = pd.read_csv('sap_storing_data_hu_project.csv')"
   ]
  },
  {
   "cell_type": "code",
   "execution_count": null,
   "metadata": {
    "pycharm": {
     "name": "#%%\n"
    }
   },
   "outputs": [],
   "source": [
    "def column_outlier(strength, dataframe, columns):\n",
    "    temp_dataframe = dataframe.copy()\n",
    "    try:\n",
    "        if strength == 's':\n",
    "            strength=3\n",
    "        elif strength == 'a':\n",
    "            strength=1.5\n",
    "    except:\n",
    "        print(\"Invalid strength\")\n",
    "    for column in columns:\n",
    "        Q1 = temp_dataframe[column].quantile(0.25)\n",
    "        Q3 = temp_dataframe[column].quantile(0.75)\n",
    "        IQR = Q3 - Q1\n",
    "        temp_dataframe = temp_dataframe[~((temp_dataframe[column] < (Q1 - strength * IQR)) |(temp_dataframe[column] > (Q3 + strength* IQR)))]\n",
    "    return temp_dataframe"
   ]
  },
  {
   "cell_type": "code",
   "execution_count": null,
   "metadata": {
    "pycharm": {
     "name": "#%%\n"
    }
   },
   "outputs": [],
   "source": [
    "# ik zorg er hier voor dat de 'stm_progfh_in_duur' kolom naar floats gecast wordt\n",
    "df.stm_progfh_in_duur = df.stm_progfh_in_duur.apply(lambda x: float(str(x).replace('-','').replace('*','').strip()))\n",
    "\n",
    "# delete stm_fh_duur outliers\n",
    "#df = column_outlier('a', df.copy(), ['stm_fh_duur'])\n"
   ]
  },
  {
   "cell_type": "code",
   "execution_count": null,
   "metadata": {
    "pycharm": {
     "name": "#%%\n"
    }
   },
   "outputs": [],
   "source": [
    "o_df = pd.read_csv('Oorzaakcodes.csv', sep = ';')\n",
    "o_df = o_df.rename(columns={'Code': 'stm_oorz_code'})"
   ]
  },
  {
   "cell_type": "code",
   "execution_count": null,
   "metadata": {
    "pycharm": {
     "name": "#%%\n"
    }
   },
   "outputs": [],
   "source": [
    "df = df.merge(o_df, on = 'stm_oorz_code', how = 'outer')"
   ]
  },
  {
   "cell_type": "code",
   "execution_count": null,
   "metadata": {
    "pycharm": {
     "name": "#%%\n"
    }
   },
   "outputs": [],
   "source": [
    "pd.set_option('display.max_rows', None)"
   ]
  },
  {
   "cell_type": "code",
   "execution_count": null,
   "metadata": {
    "pycharm": {
     "name": "#%%\n"
    }
   },
   "outputs": [],
   "source": [
    "pd.set_option('display.max_columns', None)"
   ]
  },
  {
   "cell_type": "code",
   "execution_count": null,
   "metadata": {
    "pycharm": {
     "name": "#%%\n"
    }
   },
   "outputs": [],
   "source": [
    "df.drop(df[df.stm_fh_duur == 0].index, inplace=True)"
   ]
  },
  {
   "cell_type": "code",
   "execution_count": null,
   "metadata": {
    "pycharm": {
     "name": "#%%\n"
    }
   },
   "outputs": [],
   "source": [
    "df.stm_fh_duur.describe()"
   ]
  },
  {
   "cell_type": "code",
   "execution_count": null,
   "metadata": {
    "pycharm": {
     "name": "#%%\n"
    }
   },
   "outputs": [],
   "source": [
    "new_df_copy = column_outlier('a', df.copy(), ['stm_fh_duur'])\n"
   ]
  },
  {
   "cell_type": "code",
   "execution_count": null,
   "metadata": {
    "pycharm": {
     "name": "#%%\n"
    }
   },
   "outputs": [],
   "source": [
    "df.head()"
   ]
  },
  {
   "cell_type": "code",
   "execution_count": null,
   "metadata": {
    "pycharm": {
     "name": "#%%\n"
    }
   },
   "outputs": [],
   "source": [
    "sns.kdeplot(new_df_copy.stm_fh_duur)"
   ]
  },
  {
   "cell_type": "code",
   "execution_count": null,
   "metadata": {
    "pycharm": {
     "name": "#%%\n"
    }
   },
   "outputs": [],
   "source": [
    "mean_dur_df = column_outlier('a', df.copy(), ['stm_fh_duur'])[['stm_fh_duur', 'Oorzaak']].groupby('Oorzaak', as_index = False).mean()"
   ]
  },
  {
   "cell_type": "code",
   "execution_count": null,
   "metadata": {
    "pycharm": {
     "name": "#%%\n"
    }
   },
   "outputs": [],
   "source": [
    "mean_dur_df"
   ]
  },
  {
   "cell_type": "markdown",
   "metadata": {},
   "source": []
  },
  {
   "cell_type": "code",
   "execution_count": null,
   "metadata": {
    "pycharm": {
     "name": "#%%\n"
    }
   },
   "outputs": [],
   "source": [
    "def cause_predict(cause):\n",
    "    \n",
    "    valid_causes = list(mean_dur_df.Oorzaak)\n",
    "    if cause in valid_causes:\n",
    "        estimate = float(mean_dur_df[mean_dur_df.Oorzaak == cause].stm_fh_duur)\n",
    "    else:\n",
    "        estimate = None\n",
    "    \n",
    "    return estimate"
   ]
  },
  {
   "cell_type": "code",
   "execution_count": null,
   "metadata": {
    "pycharm": {
     "name": "#%%\n"
    }
   },
   "outputs": [],
   "source": [
    "cause_predict('Applicatie/softwarefout')"
   ]
  },
  {
   "cell_type": "code",
   "execution_count": null,
   "metadata": {
    "pycharm": {
     "name": "#%%\n"
    }
   },
   "outputs": [],
   "source": [
    "test_df = new_df_copy.sample(frac=0.1)[['Oorzaak', 'stm_fh_duur']]\n",
    "test_df = test_df.dropna()\n",
    "\n",
    "y_pred = [cause_predict(x) for x in test_df.Oorzaak]\n",
    "y_true = list(test_df.stm_fh_duur)"
   ]
  },
  {
   "cell_type": "code",
   "execution_count": null,
   "metadata": {
    "pycharm": {
     "name": "#%%\n"
    }
   },
   "outputs": [],
   "source": [
    "pd.DataFrame([abs(y_pred[i]-y_true[i]) for i in  range(len(y_pred))]).describe()\n"
   ]
  },
  {
   "cell_type": "code",
   "execution_count": null,
   "metadata": {
    "pycharm": {
     "name": "#%%\n"
    }
   },
   "outputs": [],
   "source": [
    "prog_df = df[['stm_fh_duur', 'stm_progfh_in_duur']].dropna()\n",
    "test_prog_df = prog_df.copy().sample(frac=0.1)\n",
    "\n",
    "y_pred = list(test_prog_df.stm_progfh_in_duur)\n",
    "y_true = list(test_prog_df.stm_fh_duur)\n"
   ]
  },
  {
   "cell_type": "code",
   "execution_count": null,
   "metadata": {
    "pycharm": {
     "name": "#%%\n"
    }
   },
   "outputs": [],
   "source": [
    "pd.DataFrame([abs(y_pred[i]-y_true[i]) for i in  range(len(y_pred))]).describe()"
   ]
  },
  {
   "cell_type": "code",
   "execution_count": null,
   "metadata": {
    "pycharm": {
     "name": "#%%\n"
    }
   },
   "outputs": [],
   "source": [
    "# hoe groot de bins worden die de 'stm_fh_duur' kolom verdelen\n",
    "error_margin = 10"
   ]
  },
  {
   "cell_type": "code",
   "execution_count": null,
   "metadata": {
    "pycharm": {
     "name": "#%%\n"
    }
   },
   "outputs": [],
   "source": [
    "t_df = df[['stm_fh_duur', 'stm_progfh_in_duur']].dropna()"
   ]
  },
  {
   "cell_type": "markdown",
   "metadata": {},
   "source": [
    "<h2> Wat is de kans dat de prognose in de juiste bin zit? </h2>"
   ]
  },
  {
   "cell_type": "code",
   "execution_count": null,
   "metadata": {
    "pycharm": {
     "name": "#%%\n"
    }
   },
   "outputs": [],
   "source": [
    "t_df['succes'] = np.where((abs(t_df['stm_fh_duur'] - (t_df['stm_progfh_in_duur']))) < error_margin, 1, 0)\n",
    "t_df.succes.value_counts()[1] / t_df.succes.size"
   ]
  },
  {
   "cell_type": "code",
   "execution_count": null,
   "metadata": {
    "pycharm": {
     "name": "#%%\n"
    }
   },
   "outputs": [],
   "source": [
    "p_df = df[['stm_fh_duur', 'Oorzaak']].sample(frac=0.05).dropna()"
   ]
  },
  {
   "cell_type": "markdown",
   "metadata": {},
   "source": [
    "<h2> Wat is de kans dat de 'cause predict' voorspelling in de juiste bin zit? </h2>"
   ]
  },
  {
   "cell_type": "code",
   "execution_count": null,
   "metadata": {
    "pycharm": {
     "name": "#%%\n"
    }
   },
   "outputs": [],
   "source": [
    "p_df['pred'] = p_df.Oorzaak.apply(lambda x : cause_predict(x))\n",
    "p_df['succes'] = np.where((abs(p_df['stm_fh_duur'] - (p_df['pred']))) < error_margin, 1, 0)\n",
    "p_df.succes.value_counts()[1] / p_df.succes.size"
   ]
  },
  {
   "cell_type": "code",
   "execution_count": null,
   "metadata": {
    "pycharm": {
     "name": "#%%\n"
    }
   },
   "outputs": [],
   "source": [
    "df_co = column_outlier('a', df, ['stm_fh_duur'])"
   ]
  },
  {
   "cell_type": "code",
   "execution_count": null,
   "metadata": {
    "pycharm": {
     "name": "#%%\n"
    }
   },
   "outputs": [],
   "source": [
    "bins = [x for x in range(0,900,error_margin)]\n",
    "labels = [x for x in range(1,len(bins))]\n",
    "\n",
    "df_co['duration_bin'] = pd.cut(df_co['stm_fh_duur'], bins = bins, labels=labels)"
   ]
  },
  {
   "cell_type": "code",
   "execution_count": null,
   "metadata": {
    "pycharm": {
     "name": "#%%\n"
    }
   },
   "outputs": [],
   "source": [
    "df_co.corr().stm_fh_duur"
   ]
  },
  {
   "cell_type": "code",
   "execution_count": null,
   "metadata": {
    "pycharm": {
     "name": "#%%\n"
    }
   },
   "outputs": [],
   "source": [
    "from sklearn.model_selection import train_test_split\n",
    "\n",
    "df_co = df_co[['stm_equipm_nr_mld', 'stm_prioriteit', 'stm_km_tot_mld','stm_fh_duur','duration_bin', 'stm_rapportage_jaar']].sample(frac = 0.5).dropna()\n",
    "X = df_co[['stm_equipm_nr_mld', 'stm_prioriteit', 'stm_km_tot_mld', 'stm_rapportage_jaar']]\n",
    "y = df_co.duration_bin\n",
    "\n",
    "X_train, X_test, y_train, y_test = train_test_split(X, y, test_size=0.25)\n",
    "\n",
    "len(X_train)"
   ]
  },
  {
   "cell_type": "markdown",
   "metadata": {},
   "source": [
    "<h2> MODEL COMPARISON </h2>"
   ]
  },
  {
   "cell_type": "code",
   "execution_count": null,
   "metadata": {
    "pycharm": {
     "name": "#%%\n"
    }
   },
   "outputs": [],
   "source": [
    "from sklearn.model_selection import GridSearchCV\n",
    "from sklearn.tree import DecisionTreeClassifier\n",
    "from sklearn.linear_model import LinearRegression\n",
    "from sklearn.pipeline import Pipeline\n",
    "from sklearn.ensemble import RandomForestClassifier\n",
    "from sklearn.linear_model import LogisticRegression\n",
    "import matplotlib.pyplot as plt\n",
    "from sklearn.neighbors import KNeighborsClassifier\n",
    "from sklearn import svm\n",
    "from sklearn.gaussian_process import GaussianProcessClassifier\n",
    "\n",
    "# svm, random forests en gaussion process classifier duren veels te lang op deze dataset\n",
    "\n",
    "clf = DecisionTreeClassifier(random_state=0).fit(X_train, y_train)\n",
    "print('1/3')\n",
    "clf2 = KNeighborsClassifier(n_neighbors = 1).fit(X_train, y_train)\n",
    "print('2/3')"
   ]
  },
  {
   "cell_type": "code",
   "execution_count": null,
   "metadata": {
    "pycharm": {
     "name": "#%%\n"
    }
   },
   "outputs": [],
   "source": [
    "def get_accuracy(r,zip_list):\n",
    "\n",
    "    return len([ _ for x in zip_list if x[0]+r >= x[1] >= x[0]-r])/len(y_test)"
   ]
  },
  {
   "cell_type": "code",
   "execution_count": null,
   "metadata": {
    "pycharm": {
     "name": "#%%\n"
    }
   },
   "outputs": [],
   "source": [
    "x_ax = [error_margin +(20*x) for x in range(0,30)]\n",
    "\n",
    "y1_ax = [get_accuracy(x, list(zip(list(y_test), list(clf.predict(X_test))))) for x in range(0,30)]\n",
    "y2_ax = [get_accuracy(x, list(zip(list(y_test), list(clf2.predict(X_test))))) for x in range(0,30)]\n",
    "\n",
    "plt.plot(x_ax,y1_ax, label = 'Decision Tree')\n",
    "plt.plot(x_ax,y2_ax, label = 'kNN')\n",
    "\n",
    "plt.xlabel('bin size in minutes')\n",
    "plt.ylabel('accuracy score')\n",
    "\n",
    "plt.legend()\n",
    "plt.show()"
   ]
  },
  {
   "cell_type": "code",
   "execution_count": null,
   "metadata": {
    "pycharm": {
     "name": "#%%\n"
    }
   },
   "outputs": [],
   "source": [
    "y1_ax[0]"
   ]
  },
  {
   "cell_type": "code",
   "execution_count": null,
   "metadata": {
    "pycharm": {
     "name": "#%%\n"
    }
   },
   "outputs": [],
   "source": [
    "y2_ax[0]"
   ]
  },
  {
   "cell_type": "code",
   "execution_count": null,
   "metadata": {
    "pycharm": {
     "name": "#%%\n"
    }
   },
   "outputs": [],
   "source": []
  }
 ],
 "metadata": {
  "kernelspec": {
   "display_name": "Python 3",
   "language": "python",
   "name": "python3"
  },
  "language_info": {
   "codemirror_mode": {
    "name": "ipython",
    "version": 3
   },
   "file_extension": ".py",
   "mimetype": "text/x-python",
   "name": "python",
   "nbconvert_exporter": "python",
   "pygments_lexer": "ipython3",
   "version": "3.8.5"
  }
 },
 "nbformat": 4,
 "nbformat_minor": 1
}
